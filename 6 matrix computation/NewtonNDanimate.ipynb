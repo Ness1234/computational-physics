{
 "cells": [
  {
   "cell_type": "code",
   "execution_count": null,
   "metadata": {},
   "outputs": [],
   "source": []
  },
  {
   "cell_type": "code",
   "execution_count": 14,
   "metadata": {
    "scrolled": false
   },
   "outputs": [
    {
     "data": {
      "text/html": [
       "<div id=\"glowscript\" class=\"glowscript\"></div>"
      ],
      "text/plain": [
       "<IPython.core.display.HTML object>"
      ]
     },
     "metadata": {},
     "output_type": "display_data"
    },
    {
     "data": {
      "application/javascript": [
       "if (typeof Jupyter !== \"undefined\") { window.__context = { glowscript_container: $(\"#glowscript\").removeAttr(\"id\")};}else{ element.textContent = ' ';}"
      ],
      "text/plain": [
       "<IPython.core.display.Javascript object>"
      ]
     },
     "metadata": {},
     "output_type": "display_data"
    },
    {
     "name": "stdout",
     "output_type": "stream",
     "text": [
      "Number of iterations =  99 \n",
      " Final Solution:\n",
      "x[ 0 ] =  0.7610026921018717\n",
      "x[ 1 ] =  0.2649538102807027\n",
      "x[ 2 ] =  0.8357058293571064\n",
      "x[ 3 ] =  0.6487487207029421\n",
      "x[ 4 ] =  0.9642611048972873\n",
      "x[ 5 ] =  0.549177354575506\n",
      "x[ 6 ] =  17.160209784607293\n",
      "x[ 7 ] =  11.54527968432776\n",
      "x[ 8 ] =  20.271578044639117\n"
     ]
    }
   ],
   "source": [
    "# NewtonNDanimate.py: MultiDimension Newton Search \n",
    "from vpython import * \n",
    "#from vpython import rate\n",
    "from numpy.linalg import solve \n",
    "import numpy as np\n",
    "#scene = canvas()\n",
    "scene = canvas(x=0,y=0,width=500,height=500, \n",
    "             title='String and masses configuration', background = vector(105,105,105)) \n",
    "tempe = curve(x=range(0,500),color=color.black) \n",
    "n = 9 #number of equations\n",
    "eps = 1e-3 \n",
    "deriv = np.zeros( (n, n), float) #jacobi matrix\n",
    "f = np.zeros( (n), float) \n",
    "x = np.array([0.5, 0.5, 0.5, 0.5, 0.5, 0.5, 0.5, 1., 1., 1.]) #start guess\n",
    "#x = [sin(theta1),sin(theta2),sin(theta3),cos(theta1),cos(theta2),cos(theta3)]\n",
    "def plotconfig(): \n",
    "    for obj in scene.objects: \n",
    "        obj.visible=0 # Erase previous configuration \n",
    "    L1 = 3.0  #string 1 length\n",
    "    L2 = 4.0  #string 2 length\n",
    "    L3 = 4.0  #string 3 length\n",
    "    xa = L1*x[3] # L1*cos(th1) \n",
    "    ya = L1*x[0] # L1 sin(th1) \n",
    "    xb = xa+L2*x[4] # L1*cos(th1)+L2*cos(th2) \n",
    "    yb = ya+L2*x[1] # L1*sin(th1)+L2*sin(th2) \n",
    "    xc = xb+L3*x[5] # L1*cos(th1)+L2*cos(th2)+L3*cos(th3) \n",
    "    yc = yb-L3*x[2] # L1*sin(th1)+L2*sin(th2)-L3*sin(th3) \n",
    "    mx = 100.0 # for linear coordinate transformation \n",
    "    bx = -500.0 # from 0=< x =<10 \n",
    "    my = -100.0 # to -500 =500 \n",
    "    by = 400.0 # same transformation for y \n",
    "    xap = mx*xa+bx # to keep aspect ratio \n",
    "    yap = my*ya+by \n",
    "    ball1 = sphere(pos=vector(xap,yap,0), color=color.cyan, radius=15) \n",
    "    xbp = mx*xb+bx \n",
    "    ybp = my*yb+by \n",
    "    ball2 = sphere(pos=vector(xbp,ybp,0), color=color.cyan, radius=25) \n",
    "    xcp = mx*xc+bx \n",
    "    ycp = my*yc+by \n",
    "    x0 = mx*0+bx \n",
    "    y0 = my*0+by \n",
    "    line1 = curve(pos=[vector(x0,y0,0),vector(xap,yap,0)], color=color.yellow,radius=4) \n",
    "    line2 = curve(pos=[vector(xap,yap,0),vector(xbp,ybp,0)], color=color.yellow,radius=4) \n",
    "    line3 = curve(pos=[vector(xbp,ybp,0),vector(xcp,ycp,0)], color=color.yellow,radius=4) \n",
    "    topline = curve(pos=[vector(x0,y0,0),vector(xcp,ycp,0)], color=color.red,radius=4) \n",
    "def F(x, f): # F function \n",
    "    f[0] = 3*x[3] + 4*x[4] + 4*x[5] - 8.0 \n",
    "    f[1] = 3*x[0] + 4*x[1] - 4*x[2] \n",
    "    f[2] = x[6]*x[0] - x[7]*x[1] - 10.0 \n",
    "    f[3] = x[6]*x[3] - x[7]*x[4] \n",
    "    f[4] = x[7]*x[1] + x[8]*x[2] - 20.0 \n",
    "    f[5] = x[7]*x[4] - x[8]*x[5] \n",
    "    f[6] = pow(x[0], 2) + pow(x[3], 2) - 1.0 \n",
    "    f[7] = pow(x[1], 2) + pow(x[4], 2) - 1.0 \n",
    "    f[8] = pow(x[2], 2) + pow(x[5], 2) - 1.0 \n",
    "    \n",
    "def dFi_dXj(x, deriv, n): # Derivatives \n",
    "    h = 1e-4 \n",
    "    for j in range(0, n): \n",
    "        temp = x[j] \n",
    "        x[j] = x[j] + h/2. \n",
    "        F(x, f) \n",
    "        for i in range(0, n): deriv[i, j] = f[i] \n",
    "        x[j] = temp \n",
    "    for j in range(0, n): \n",
    "        temp = x[j] \n",
    "        x[j] = x[j] - h/2. \n",
    "        F(x, f) \n",
    "        for i in range(0, n): deriv[i, j] = (deriv[i, j] - f[i])/h \n",
    "        x[j] = temp \n",
    "for it in range(1, 100): \n",
    "    rate(1) # 1 second between graphs F(x, f) \n",
    "    dFi_dXj(x, deriv, n) \n",
    "    B = array([[-f[0]], [-f[1]], [-f[2]], [-f[3]], [-f[4]], [-f[5]],\\\n",
    "               [-f[6]], [-f[7]], [-f[8]]]) \n",
    "    sol = solve(deriv, B) \n",
    "    dx = take(sol, (0, ), 1) # First column of sol \n",
    "    for i in range(0, n): \n",
    "        x[i] = x[i] + dx[i] \n",
    "    plotconfig() \n",
    "    errX = errF = errXi = 0.0 \n",
    "    for i in range(0, n): \n",
    "        if ( x[i] != 0.): errXi = abs(dx[i]/x[i]) \n",
    "        else: errXi = abs(dx[i]) \n",
    "        if ( errXi > errX): errX = errXi \n",
    "        if ( abs(f[i]) > errF ): errF = abs(f[i]) \n",
    "        if ( (errX <= eps) and (errF <= eps) ): break \n",
    "print('Number of iterations = ', it, \"\\n Final Solution:\") \n",
    "for i in range(0, n): \n",
    "    print('x[', i, '] = ', x[i]) "
   ]
  },
  {
   "cell_type": "code",
   "execution_count": null,
   "metadata": {},
   "outputs": [],
   "source": []
  }
 ],
 "metadata": {
  "kernelspec": {
   "display_name": "Python 3",
   "language": "python",
   "name": "python3"
  },
  "language_info": {
   "codemirror_mode": {
    "name": "ipython",
    "version": 3
   },
   "file_extension": ".py",
   "mimetype": "text/x-python",
   "name": "python",
   "nbconvert_exporter": "python",
   "pygments_lexer": "ipython3",
   "version": "3.8.1"
  },
  "latex_envs": {
   "LaTeX_envs_menu_present": true,
   "autoclose": false,
   "autocomplete": true,
   "bibliofile": "biblio.bib",
   "cite_by": "apalike",
   "current_citInitial": 1,
   "eqLabelWithNumbers": true,
   "eqNumInitial": 1,
   "hotkeys": {
    "equation": "Ctrl-E",
    "itemize": "Ctrl-I"
   },
   "labels_anchors": false,
   "latex_user_defs": false,
   "report_style_numbering": false,
   "user_envs_cfg": false
  },
  "toc": {
   "base_numbering": 1,
   "nav_menu": {},
   "number_sections": true,
   "sideBar": true,
   "skip_h1_title": false,
   "title_cell": "Table of Contents",
   "title_sidebar": "Contents",
   "toc_cell": false,
   "toc_position": {},
   "toc_section_display": true,
   "toc_window_display": false
  }
 },
 "nbformat": 4,
 "nbformat_minor": 4
}
