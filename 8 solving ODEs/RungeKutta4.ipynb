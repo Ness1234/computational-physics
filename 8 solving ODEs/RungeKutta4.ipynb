{
 "cells": [
  {
   "cell_type": "markdown",
   "metadata": {},
   "source": [
    "### Fourth Order Runge Kutta method $\\mathtt{rk4}$ \n",
    "Obtains $O(h^4)$ precision by approximating $y$ as a taylor series up to $h^2$ (a parabola) at the midpoint of the interval, which leads to the cancellation of lower order error.\n",
    "$\\mathtt{rk4}$  requires the evaluation of four intermediate slopes \n",
    "\\begin{equation}\n",
    "\\mathbf{y}_{n+1}=\\mathbf{y}_{n}+\\frac{1}{6}(\\mathbf{k}_1+2\\mathbf{k}_2+2\\mathbf{k}_3+\\mathbf{k}_4)\n",
    "\\end{equation}\n",
    "and these are approximated sith the Euler algorithm to: \n",
    "\\begin{align}\n",
    "\\mathbf{k}_1&=h\\cdot \\mathbf{f}(t_n,y_n)\\\\\n",
    "\\mathbf{k}_2&=h \\cdot \\mathbf{f}(t_n+\\frac{h}{2},y_n+\\frac{\\mathbf{k}_1}{2})\\\\\n",
    "\\mathbf{k}_3&=h \\cdot \\mathbf{f}(t_n+\\frac{h}{2},y_n+\\frac{\\mathbf{k}_2}{2})\\\\\n",
    "\\mathbf{k}_4&=h \\cdot \\mathbf{f}(t_n+h,y_n+\\mathbf{k}_3)\n",
    "\\end{align}"
   ]
  },
  {
   "cell_type": "code",
   "execution_count": 76,
   "metadata": {},
   "outputs": [],
   "source": [
    "import numpy as np\n",
    "import vpython as vp"
   ]
  },
  {
   "cell_type": "code",
   "execution_count": 77,
   "metadata": {},
   "outputs": [],
   "source": [
    "#Initialization\n",
    "a = 0.\n",
    "b = 10.\n",
    "n = 100\n",
    "ydumb = np.zeros((2), float); y = np.zeros((2), float)\n",
    "fReturn = np.zeros((2), float); k1 = np.zeros((2), float)\n",
    "k4 = np.zeros((2), float); k3 = np.zeros((2), float)\n",
    "k4 = np.zeros((2), float)\n",
    "y[0] = 3. ; y[1] = -5.\n",
    "t = a ; h=(b-a)/n\n",
    "\n",
    "#force function, the right hand side\n",
    "def f(t,y):\n",
    "    fReturn[0] = y[1]\n",
    "    fReturn[1] = -100.*y[0] -2.*y[1] + 10.*np.sin(3.*t)\n",
    "    return fReturn"
   ]
  },
  {
   "cell_type": "code",
   "execution_count": 78,
   "metadata": {},
   "outputs": [
    {
     "data": {
      "text/html": [
       "<div id=\"glowscript\" class=\"glowscript\"></div>"
      ],
      "text/plain": [
       "<IPython.core.display.HTML object>"
      ]
     },
     "metadata": {},
     "output_type": "display_data"
    },
    {
     "data": {
      "application/javascript": [
       "if (typeof Jupyter !== \"undefined\") { window.__context = { glowscript_container: $(\"#glowscript\").removeAttr(\"id\")};}else{ element.textContent = ' ';}"
      ],
      "text/plain": [
       "<IPython.core.display.Javascript object>"
      ]
     },
     "metadata": {},
     "output_type": "display_data"
    }
   ],
   "source": [
    "scene = vp.canvas()\n",
    "graph1 = vp.graph(x = 0, y = 0, width = 400, height = 400, title = 'RK4', xtitle = 't', \n",
    "                  ytitle = 'Y[0]=x(t)', xmin = 0, xmax =10, ymin = -2, ymax = 3)\n",
    "funct1 = vp.gcurve(color = vp.color.yellow)\n",
    "graph2 = vp.graph(x = 0, y = 0, width = 400, height = 400, title = 'RK4', xtitle = 't', \n",
    "                  ytitle = 'Y[1]=dx(t)/dt', xmin = 0, xmax =10, ymin = -25, ymax = 18)\n",
    "funct2 = vp.gcurve(color = vp.color.red)"
   ]
  },
  {
   "cell_type": "code",
   "execution_count": 79,
   "metadata": {},
   "outputs": [],
   "source": [
    "def rk4(t,h,n):\n",
    "    k1 = [0]*n\n",
    "    k2 = [0]*n\n",
    "    k3 = [0]*n\n",
    "    k4 = [0]*n\n",
    "    fR = [0]*n\n",
    "    ydumb = [0]*n\n",
    "    fR = f(t,y)   #return right hand side\n",
    "    for i in range(0,n):\n",
    "        k1[i] = h*fR[i]\n",
    "    for i in range(0,n):\n",
    "        ydumb[i] =y[i] + k1[i]/2\n",
    "    k2 = h*f(t+h/2., ydumb)\n",
    "    for i in range(0,n):\n",
    "        ydumb[i] =y[i] + k1[i]/2\n",
    "    k3 = h*f(t+h/2., ydumb)\n",
    "    for i in range(0,n):\n",
    "        ydumb[i] = y[i] + k3[i]\n",
    "    k4 = h*f(t+h, ydumb)\n",
    "    for i in range(0,n):\n",
    "        y[i] = y[i] + (k1[i] +2.*(k2[i]+k3[i])+k4[i])/6. \n",
    "    return y"
   ]
  },
  {
   "cell_type": "code",
   "execution_count": 80,
   "metadata": {},
   "outputs": [],
   "source": [
    "while (t<b):              #time loop\n",
    "    if ((t+h)>b):\n",
    "        h = b-t             #last step\n",
    "    y = rk4(t,h,2)\n",
    "    t = t+h\n",
    "    vp.rate(30)\n",
    "    funct1.plot(pos = (t,y[0]))\n",
    "    funct2.plot(pos = (t,y[1]))"
   ]
  },
  {
   "cell_type": "markdown",
   "metadata": {},
   "source": [
    "### Adaptive step size Runge Kutta $\\mathtt{rk45}$\n",
    "Varies the step size while doing the integration with the hope of obtaining better precision and maybe better speed. It automatically doubles the step size and tests to see how an estimate of the error changes. If the error is still within acceptable bounds, the algorithm will continue to use the larger step size and thus speed up the computation; if the error is too large, the algorithm will decrease the step size until an acceptable error is found.\n"
   ]
  },
  {
   "cell_type": "code",
   "execution_count": 31,
   "metadata": {},
   "outputs": [],
   "source": [
    "import numpy as np\n",
    "import vpython as vp"
   ]
  },
  {
   "cell_type": "code",
   "execution_count": 32,
   "metadata": {},
   "outputs": [],
   "source": [
    "a = 0.; b =10          # endpoints\n",
    "Tol = 1.0E-8           # error tolerence\n",
    "ydumb = np.zeros((2),float)  # initialization\n",
    "y = np.zeros((2),float)\n",
    "fReturn = np.zeros((2),float)\n",
    "err = np.zeros((2),float)\n",
    "k1 = np.zeros((2),float)\n",
    "k2 = np.zeros((2),float)\n",
    "k3 = np.zeros((2),float)\n",
    "k4 = np.zeros((2),float)\n",
    "k5 = np.zeros((2),float)\n",
    "k6 = np.zeros((2),float)\n",
    "n = 20\n",
    "y[0] = 1. ; y[1] = 0.\n",
    "h = (b-a)/n; t = a; j = 0\n",
    "hmin = h/64; hmax = h*64     # Min and Max step sizes\n",
    "flops = 0; Eexact = 0.; error = 0.\n",
    "sum = 0."
   ]
  },
  {
   "cell_type": "code",
   "execution_count": 33,
   "metadata": {},
   "outputs": [],
   "source": [
    "def f(t, y, fReturn): # force function\n",
    "    fReturn[0] = y[1]\n",
    "    fReturn[1] = -6.*pow(y[0], 5.)"
   ]
  },
  {
   "cell_type": "code",
   "execution_count": 35,
   "metadata": {},
   "outputs": [
    {
     "data": {
      "text/html": [
       "<div id=\"glowscript\" class=\"glowscript\"></div>"
      ],
      "text/plain": [
       "<IPython.core.display.HTML object>"
      ]
     },
     "metadata": {},
     "output_type": "display_data"
    },
    {
     "data": {
      "application/javascript": [
       "if (typeof Jupyter !== \"undefined\") { window.__context = { glowscript_container: $(\"#glowscript\").removeAttr(\"id\")};}else{ element.textContent = ' ';}"
      ],
      "text/plain": [
       "<IPython.core.display.Javascript object>"
      ]
     },
     "metadata": {},
     "output_type": "display_data"
    }
   ],
   "source": [
    "scene = vp.canvas()\n",
    "graph1 = vp.graph(width = 600, height = 600, title = 'RK45', xtitle = 't', ytitle = 'Y[0]=x(t)')\n",
    "funct1 = vp.gcurve(color = vp.color.blue)\n",
    "graph2 = vp.graph(width = 600, height = 600, title = 'RK45', xtitle = 't', ytitle = 'Y[1]=dx(t)/dt')\n",
    "funct2 = vp.gcurve(color = vp.color.red)\n",
    "funct1.plot(pos = (t,y[0]))\n",
    "funct2.plot(pos = (t,y[1]))"
   ]
  },
  {
   "cell_type": "code",
   "execution_count": 37,
   "metadata": {},
   "outputs": [
    {
     "name": "stdout",
     "output_type": "stream",
     "text": [
      "<error>=  1.0318188164588248e-07 , flops =  645\n"
     ]
    }
   ],
   "source": [
    "while (t < b) :              #loop over time\n",
    "    funct1.plot(pos = (t, y[0]))\n",
    "    funct2.plot(pos = (t, y[1]))\n",
    "    \n",
    "    if ((t+h)>b):\n",
    "        h = b-t            #last step\n",
    "        \n",
    "    f(t, y, fReturn)       #evaluate f, return in fReturn          \n",
    "    k1[0] = h*fReturn[0];   k1[1] = h*fReturn[1]   #calculate k1\n",
    "    \n",
    "    for i in range(0,2):     #calculate k2\n",
    "        ydumb[i] = y[i] + k1[i]/4\n",
    "    f(t+ h/4, ydumb, fReturn)\n",
    "    k2[0] = h*fReturn[0];   k2[1] = h*fReturn[1]\n",
    "    \n",
    "    for i in range(0,2):     #calculate k3                                    \n",
    "        ydumb[i] = y[i] +3 *k1[i]/32 + 9*k2[i]/32\n",
    "    f(t+3*h/8, ydumb, fReturn)\n",
    "    k3[0] = h*fReturn[0]; k3[1] = h*fReturn[1]\n",
    "    \n",
    "    for i in range(0,2):   #calculate k4\n",
    "        ydumb[i] = y[i] + 1932*k1[i]/2197 - 7200*k2[i]/2197. + 7296*k3[i]/2197\n",
    "    f(t+12*h/13, ydumb, fReturn)\n",
    "    k4[0] = h*fReturn[0]; k4[1] = h*fReturn[1]\n",
    "    \n",
    "    for i in range(0,2):   #calculate k5\n",
    "        ydumb[i] = y[i] + 439*k1[i]/216 - 8*k2[i] + 3680*k3[i]/513 - 845*k4[i]/4104\n",
    "    f(t+h, ydumb, fReturn)\n",
    "    k5[0] = h*fReturn[0]; k5[1] = h*fReturn[1]\n",
    "    \n",
    "    for i in range(0,2):  #calculaze k6\n",
    "        ydumb[i] = y[i] - 8*k1[i]/27 + 2*k2[i] - 3544*k3[i]/2565 + 1859*k4[i]/4104 - 11*k5[i]/40\n",
    "    f(t+h/2, ydumb, fReturn)\n",
    "    k6[0] = h*fReturn[0]; k6[1] = h*fReturn[1]\n",
    "    \n",
    "    for i in range(0,2):   #calculate error\n",
    "        err[i] = abs(k1[i]/360 - 128*k3[i]/4275 - 2197*k4[i]/75240 + k5[i]/50. * 2*k6[i]/55)\n",
    "    \n",
    "    if (err[0] < Tol or err[1] < Tol or h <= 2*hmin):  #accept step\n",
    "        for i in range(0,2):\n",
    "            y[i] = y[i] + 25*k1[i]/216. + 1408*k3[i]/2565. + 2197*k4[i]/4104. - k5[i]/5.\n",
    "        t = t + h\n",
    "        j = j + 1\n",
    "        \n",
    "    if (err[0] == 0 or err[1]  == 0):  #trap division by 0\n",
    "        s = 0\n",
    "    else:\n",
    "        s = 0.84*pow(Tol*h/err[0], 0.25)  \n",
    "        \n",
    "    if (s < 0.75 and h > 2*hmin):\n",
    "        h /= 2.              #reduce step\n",
    "    else:\n",
    "        if (s > 1.5 and 2* h < hmax):\n",
    "            h *= 2.         #increase step\n",
    "            \n",
    "    flops = flops + 1\n",
    "    E = pow(y[0], 6.) + 0.5 * y[1] * y[1]\n",
    "    Eexact = 1.\n",
    "    error = abs((E - Eexact)/Eexact)\n",
    "    sum += error\n",
    "print(\"<error>= \", sum/flops, \", flops = \", flops)"
   ]
  },
  {
   "cell_type": "markdown",
   "metadata": {},
   "source": [
    "### Adams-Bashforth-Moulton predictor-corrector scheme\n",
    "Uses the solution from previous steps $y_{n-2}$ and $y_{n-1}$ in addition to $y_n$ to predict $y_{n+1}$. Many of these types of methods tend to be like a Newton's search; we start with a guess or prediction for the next step and then use an algorithm such as $\\mathtt{rk4}$ to check the prediction and thereby obtain a correction. As with $\\mathtt{rk45}$, one can use the correction as a measure of the error and then adjust the step size to obtain improved precision.\n"
   ]
  },
  {
   "cell_type": "code",
   "execution_count": 38,
   "metadata": {},
   "outputs": [],
   "source": [
    "# Adams BM method to integrate ODe\n",
    "# Solves y' = (t - y)/2, with y[0] = 1 over [0,3]\n",
    "import numpy as np\n",
    "import vpython as vp"
   ]
  },
  {
   "cell_type": "code",
   "execution_count": 61,
   "metadata": {},
   "outputs": [
    {
     "data": {
      "text/html": [
       "<div id=\"glowscript\" class=\"glowscript\"></div>"
      ],
      "text/plain": [
       "<IPython.core.display.HTML object>"
      ]
     },
     "metadata": {},
     "output_type": "display_data"
    },
    {
     "data": {
      "application/javascript": [
       "if (typeof Jupyter !== \"undefined\") { window.__context = { glowscript_container: $(\"#glowscript\").removeAttr(\"id\")};}else{ element.textContent = ' ';}"
      ],
      "text/plain": [
       "<IPython.core.display.Javascript object>"
      ]
     },
     "metadata": {},
     "output_type": "display_data"
    }
   ],
   "source": [
    "scene = vp.canvas()\n",
    "numgr = vp.graph(x = 0, y = 0, width = 600, height = 300, xmin = 0.0, xmax = 3.0,\n",
    "                title = \"Numerical Solution\", xtitle = 't', \n",
    "                ytitle = 'y', ymax = 2., ymin = 0.5)\n",
    "numsol = vp.gcurve(color = vp.color.red)\n",
    "exactgr = vp.graph(x = 0, y = 300, width = 600, height = 300, title = \"Exact solution\", \n",
    "                   xtitle = 't', ytitle = 'y', xmax = 3.0, xmin = 0.0,\n",
    "                   ymax = 2.0, ymin = 0.5)\n",
    "exsol = vp.gcurve(color = vp.color.blue)"
   ]
  },
  {
   "cell_type": "code",
   "execution_count": 62,
   "metadata": {},
   "outputs": [],
   "source": [
    "n = 24  # N steps > 3\n",
    "A = 0; B = 3.\n",
    "t = [0]*500; y = [0]*500; yy = [0]*4"
   ]
  },
  {
   "cell_type": "code",
   "execution_count": 63,
   "metadata": {},
   "outputs": [],
   "source": [
    "def f(t, y):      #right hand side function\n",
    "    return (t -y)/2.0"
   ]
  },
  {
   "cell_type": "code",
   "execution_count": 64,
   "metadata": {},
   "outputs": [],
   "source": [
    "def rk4(t, yy, h1): # Runge-Kutta\n",
    "    for i in range(0,3):\n",
    "        t = h1 * i\n",
    "        k0 = h1 * f(t, y[i])\n",
    "        k1 = h1 * f(t + h1/2., yy[i] + k0/2.)\n",
    "        k2 = h1 * f(t + h1/2., yy[i] + k1/2.)\n",
    "        k3 = h1 * f(t + h1, yy[i] + k2)\n",
    "        yy[i + 1] = yy[i] + (1./6.) * (k0 + 2.*k1 + 2.*k2 + k3)\n",
    "        #print(i,yy[i])\n",
    "    return yy[3]        "
   ]
  },
  {
   "cell_type": "code",
   "execution_count": 65,
   "metadata": {},
   "outputs": [],
   "source": [
    "def ABM(a,b,N):\n",
    "    #compute three additional starting values using rk\n",
    "    h = (b - a) / N  #step\n",
    "    t[0] = a; y[0] = 1.00; F0 = f(t[0], y[0])\n",
    "    \n",
    "    for k in range(1,4): #compute steps\n",
    "        t[k] = a + k * h\n",
    "        \n",
    "    y[1] = rk4(t[1], y, h)      # 1st step\n",
    "    y[2] = rk4(t[2], y, h)      # 2nd step\n",
    "    y[3] = rk4(t[3], y, h)      # 3rd step\n",
    "    \n",
    "    F1 = f(t[1], y[1])\n",
    "    F2 = f(t[2], y[2])\n",
    "    F3 = f(t[3], y[3])\n",
    "    h2 = h/24.\n",
    "    \n",
    "    for k in range(3,N):   \n",
    "        p = y[k] + h2 * (-9.*F0 + 37. * F1 - 59. * F2 + 55. * F3)     #predictor\n",
    "        t[k+1] = a + h*(k+1)   # next abscissa\n",
    "        F4 = f(t[k+1], p)\n",
    "        y[k+1] = y[k] + h2 * (F1 - 5. * F2 + 19. * F3 + 9. * F4)      #corrector\n",
    "        F0 = F1                    #y_n-2\n",
    "        F1 = F2                    #y_n-1\n",
    "        F2 = F3                    #y_n\n",
    "        F3 = f(t[k + 1], y[k + 1]) #y_n+1\n",
    "    return t,y"
   ]
  },
  {
   "cell_type": "code",
   "execution_count": 66,
   "metadata": {},
   "outputs": [
    {
     "name": "stdout",
     "output_type": "stream",
     "text": [
      " k   t       Y numerical      Y exact\n",
      "   0 0.000 1.00000000000 1.00000000000\n",
      "   1 0.417 0.85248518579 0.85247570512\n",
      "   2 0.833 0.81107061936 0.81105522393\n",
      "   3 1.250 0.85580303576 0.85578428556\n",
      "   4 1.667 0.97043713240 0.97046129219\n",
      "   5 2.083 1.14188077086 1.14193157771\n",
      "   6 2.500 1.35944828773 1.35951439058\n",
      "   7 2.917 1.61446344116 1.61453764042\n",
      "   8 3.333 1.89988323679 1.89996014185\n",
      "   9 3.750 2.20998893937 2.21006490053\n",
      "  10 4.167 2.54013742615 2.54021008100\n",
      "  11 4.583 2.88655890304 2.88662680829\n",
      "  12 5.000 3.24619262371 3.24625499587\n",
      "  13 5.417 3.61655352984 3.61661004824\n",
      "  14 5.833 3.99562397172 3.99567463200\n",
      "  15 6.250 4.38176579436 4.38181080087\n",
      "  16 6.667 4.77364895928 4.77368864671\n",
      "  17 7.083 5.17019359163 5.17022836877\n",
      "  18 7.500 5.57052292755 5.57055323757\n",
      "  19 7.917 5.97392511152 5.97395140459\n",
      "  20 8.333 6.37982217918 6.37984489413\n",
      "  21 8.750 6.78774487403 6.78776442673\n",
      "  22 9.167 7.19731220087 7.19732897732\n",
      "  23 9.583 7.60821482495 7.60822917781\n",
      "  24 10.000 8.02020159351 8.02021384100\n"
     ]
    }
   ],
   "source": [
    "print(\" k   t       Y numerical      Y exact\")\n",
    "t, y = ABM(A,b,n)\n",
    "for k in range(0, n+1):\n",
    "    print(\" %3d %5.3f %12.11f %12.11f\"%(k,t[k],y[k],(3.*np.exp(-t[k]/2.)-2.+t[k])))\n",
    "    numsol.plot(pos = (t[k], y[k]))\n",
    "    exsol.plot(pos = (t[k], 3.*np.exp(-t[k]/2.) -2. + t[k]))"
   ]
  },
  {
   "cell_type": "markdown",
   "metadata": {},
   "source": [
    "### Assessment: $\\mathtt{rk2}$ vs. $\\mathtt{rk4}$ vs. $\\mathtt{rk45}$\n",
    "#### Harmonic oscillations\n",
    "1. Write your own $\\mathtt{rk2}$ method for general ODE by making the derivative function $f(x,t)$ a seperate method\n",
    "2. Harmonic oscillators are \\textbf{isochronous}: The period does not change as the amplitude varies (the initial position)."
   ]
  },
  {
   "cell_type": "code",
   "execution_count": 284,
   "metadata": {},
   "outputs": [],
   "source": [
    "import numpy as np\n",
    "import vpython as vp"
   ]
  },
  {
   "cell_type": "code",
   "execution_count": 289,
   "metadata": {},
   "outputs": [],
   "source": [
    "#Initialization\n",
    "a = 0.\n",
    "b = 3.\n",
    "n = 100\n",
    "ydumb = np.zeros((2), float); y = np.zeros((2), float)\n",
    "fReturn = np.zeros((2), float); k1 = np.zeros((2), float)\n",
    "k2 = np.zeros((2), float)\n",
    "x_init = y[0] = 3. #initial position\n",
    "v_init= y[1] = -5. #initial velocity\n",
    "t = a ; h=(b-a)/n\n",
    "A = 3.1\n",
    "m = 10.\n",
    "k = 4* m* np.pi**2\n",
    "omega = np.sqrt(k/m)\n",
    "p = 2  #to obtain harmonic oscillation v(x) = 1/p* k* x^p\n",
    "alpha = 0.\n",
    "fAnalytic = np.zeros((2), float)\n",
    "c = np.arcsin(x_init/A)\n",
    "d = np.arccos(v_init/(omega*A))\n",
    "#force function, the right hand side\n",
    "def f(t,y):\n",
    "    #f = f_ext+f_k\n",
    "    #f_ext :exerced by the hand\n",
    "    #f_k = restoring force of the spring\n",
    "    fReturn[0] = y[1]\n",
    "    fReturn[1] = -k/m*pow(y[0], p-1) \n",
    "    #fReturn[1] = 1/m*(A*np.sin(omega*t)- k*pow(y[0], p-1)) \n",
    "    #fReturn[1] = 1/m*(- k*y[0]*(1-alpha*y[0])) \n",
    "    return fReturn\n",
    "#analytic function\n",
    "def fanalytic(t):\n",
    "    fAnalytic[0] = A * np.sin(omega * t + c)\n",
    "    fAnalytic[1] = omega * A * np.cos(omega * t + d)\n",
    "    return fAnalytic"
   ]
  },
  {
   "cell_type": "code",
   "execution_count": 290,
   "metadata": {},
   "outputs": [],
   "source": [
    "def rk2(t,h,n): \n",
    "    # n: order of the ode\n",
    "    # h: step length\n",
    "    # t: time step\n",
    "    k1 = [0]*n\n",
    "    k2 = [0]*n\n",
    "    ydumb = [0]*n\n",
    "    #fR = [0]*n\n",
    "    fR = f(t,y)\n",
    "    for i in range(0,n):\n",
    "        k1[i] = h*fR[i]\n",
    "    for i in range(0,n):\n",
    "        ydumb[i] = y[i]+k1[i]/2.\n",
    "    k2 = h * f(t+h/2., ydumb)\n",
    "    for i in range(0,n):\n",
    "        y[i] = y[i] + k2[i]\n",
    "    return y"
   ]
  },
  {
   "cell_type": "code",
   "execution_count": 291,
   "metadata": {},
   "outputs": [
    {
     "data": {
      "text/html": [
       "<div id=\"glowscript\" class=\"glowscript\"></div>"
      ],
      "text/plain": [
       "<IPython.core.display.HTML object>"
      ]
     },
     "metadata": {},
     "output_type": "display_data"
    },
    {
     "data": {
      "application/javascript": [
       "if (typeof Jupyter !== \"undefined\") { window.__context = { glowscript_container: $(\"#glowscript\").removeAttr(\"id\")};}else{ element.textContent = ' ';}"
      ],
      "text/plain": [
       "<IPython.core.display.Javascript object>"
      ]
     },
     "metadata": {},
     "output_type": "display_data"
    }
   ],
   "source": [
    "scene = vp.canvas()\n",
    "graph1 = vp.graph(x = 0, y = 0, width = 400, height = 400, title = 'RK2', xtitle = 't', \n",
    "                  ytitle = 'Y[0]=x(t)', xmin = 0, xmax =3)\n",
    "funct1 = vp.gcurve(color = vp.color.yellow)\n",
    "analytic1 = vp.gcurve(color = vp.color.green)\n",
    "graph2 = vp.graph(x = 0, y = 0, width = 400, height = 400, title = 'RK2', xtitle = 't', \n",
    "                  ytitle = 'Y[1]=dx(t)/dt', xmin = 0, xmax =3)\n",
    "funct2 = vp.gcurve(color = vp.color.red)\n",
    "analytic2 = vp.gcurve(color= vp.color.green)"
   ]
  },
  {
   "cell_type": "code",
   "execution_count": 292,
   "metadata": {},
   "outputs": [],
   "source": [
    "while (t<b):              #time loop\n",
    "    if ((t+h)>b):\n",
    "        h = b-t             #last step\n",
    "    if t==0:\n",
    "        funct1.plot(pos = (t,x_init))\n",
    "        funct2.plot(pos = (t,v_init))\n",
    "    yanalytic = fanalytic(t)\n",
    "    analytic1.plot(pos = (t,yanalytic[0]))\n",
    "    analytic2.plot(pos = (t,yanalytic[1]))\n",
    "    y = rk2(t,h,2)\n",
    "    t = t+h\n",
    "    funct1.plot(pos = (t,y[0]))\n",
    "    funct2.plot(pos = (t,y[1]))\n",
    "    vp.rate(10)"
   ]
  },
  {
   "cell_type": "markdown",
   "metadata": {},
   "source": [
    "#### Anharmonic oscillation\n",
    "1. Anharmonic oscillators are \\textbf{nonisochnonous}, vibrations with different amplitudes have different periods. "
   ]
  },
  {
   "cell_type": "code",
   "execution_count": 355,
   "metadata": {},
   "outputs": [],
   "source": [
    "import numpy as np\n",
    "import vpython as vp"
   ]
  },
  {
   "cell_type": "code",
   "execution_count": 369,
   "metadata": {},
   "outputs": [],
   "source": [
    "#Initialization\n",
    "a = 0.\n",
    "b = 3.\n",
    "n = 100\n",
    "ydumb = np.zeros((2), float); y = np.zeros((2), float)\n",
    "fReturn = np.zeros((2), float); k1 = np.zeros((2), float)\n",
    "k2 = np.zeros((2), float)\n",
    "x_init = y[0] = 20. #initial position\n",
    "v_init= y[1] = -5. #initial velocity\n",
    "t = a ; h=(b-a)/n\n",
    "m = 10.\n",
    "k = 5.\n",
    "p = 4 #to obtain anharmonic oscillation , p>=2\n",
    "#force function, the right hand side\n",
    "def f(t,y):\n",
    "    #f = f_ext+f_k\n",
    "    #f_ext :exerced by the hand\n",
    "    #f_k = restoring force of the spring\n",
    "    fReturn[0] = y[1]\n",
    "    fReturn[1] = -k/m*pow(y[0], p-1) \n",
    "    return fReturn"
   ]
  },
  {
   "cell_type": "code",
   "execution_count": 370,
   "metadata": {},
   "outputs": [
    {
     "data": {
      "text/html": [
       "<div id=\"glowscript\" class=\"glowscript\"></div>"
      ],
      "text/plain": [
       "<IPython.core.display.HTML object>"
      ]
     },
     "metadata": {},
     "output_type": "display_data"
    },
    {
     "data": {
      "application/javascript": [
       "if (typeof Jupyter !== \"undefined\") { window.__context = { glowscript_container: $(\"#glowscript\").removeAttr(\"id\")};}else{ element.textContent = ' ';}"
      ],
      "text/plain": [
       "<IPython.core.display.Javascript object>"
      ]
     },
     "metadata": {},
     "output_type": "display_data"
    }
   ],
   "source": [
    "scene = vp.canvas()\n",
    "graph1 = vp.graph(x = 0, y = 0, width = 400, height = 400, title = 'RK2', xtitle = 't', \n",
    "                  ytitle = 'Y[0]=x(t)', xmin = 0, xmax =3)\n",
    "funct1 = vp.gcurve(color = vp.color.yellow)\n",
    "graph2 = vp.graph(x = 0, y = 0, width = 400, height = 400, title = 'RK2', xtitle = 't', \n",
    "                  ytitle = 'Y[1]=dx(t)/dt', xmin = 0, xmax =3)\n",
    "funct2 = vp.gcurve(color = vp.color.red)"
   ]
  },
  {
   "cell_type": "code",
   "execution_count": 371,
   "metadata": {},
   "outputs": [],
   "source": [
    "def rk4(t,h,n):\n",
    "    k1 = [0]*n\n",
    "    k2 = [0]*n\n",
    "    k3 = [0]*n\n",
    "    k4 = [0]*n\n",
    "    fR = [0]*n\n",
    "    ydumb = [0]*n\n",
    "    fR = f(t,y)   #return right hand side\n",
    "    for i in range(0,n):\n",
    "        k1[i] = h*fR[i]\n",
    "    for i in range(0,n):\n",
    "        ydumb[i] =y[i] + k1[i]/2\n",
    "    k2 = h*f(t+h/2., ydumb)\n",
    "    for i in range(0,n):\n",
    "        ydumb[i] =y[i] + k1[i]/2\n",
    "    k3 = h*f(t+h/2., ydumb)\n",
    "    for i in range(0,n):\n",
    "        ydumb[i] = y[i] + k3[i]\n",
    "    k4 = h*f(t+h, ydumb)\n",
    "    for i in range(0,n):\n",
    "        y[i] = y[i] + (k1[i] +2.*(k2[i]+k3[i])+k4[i])/6. \n",
    "    return y"
   ]
  },
  {
   "cell_type": "code",
   "execution_count": 372,
   "metadata": {},
   "outputs": [],
   "source": [
    "while (t<b):              #time loop\n",
    "    if ((t+h)>b):\n",
    "        h = b-t             #last step\n",
    "    y = rk4(t,h,2)\n",
    "    t = t+h\n",
    "    vp.rate(30)\n",
    "    funct1.plot(pos = (t,y[0]))\n",
    "    funct2.plot(pos = (t,y[1]))"
   ]
  },
  {
   "cell_type": "markdown",
   "metadata": {},
   "source": [
    "2. Explain why the shapes of the oscillations change for different $p$'s?\n",
    "Remember, the oscillator has the form $F_k=-kx^{p-1}$"
   ]
  },
  {
   "cell_type": "markdown",
   "metadata": {},
   "source": [
    "#### Energy conservation\n",
    "Plot the potential energy $PE(t)=V[x(t)]$, the kinetic energy $KE(t)=mv^2(t)/2$ and the total energy $E(t)=KE(t)+PE(t)$ for $50$ periods. Comment on the correlation between $PE(t)$ and $KE(t)$ and how it depends on the potential's parameters. "
   ]
  },
  {
   "cell_type": "code",
   "execution_count": 437,
   "metadata": {},
   "outputs": [],
   "source": [
    "import numpy as np\n",
    "import vpython as vp"
   ]
  },
  {
   "cell_type": "code",
   "execution_count": 456,
   "metadata": {},
   "outputs": [],
   "source": [
    "#Initialization\n",
    "a = 0.\n",
    "b =10.\n",
    "n = 1000\n",
    "ydumb = np.zeros((2), float); y = np.zeros((2), float)\n",
    "fReturn = np.zeros((2), float); k1 = np.zeros((2), float)\n",
    "k2 = np.zeros((2), float)\n",
    "x_init = y[0] = 20. #initial position\n",
    "v_init= y[1] = -5. #initial velocity\n",
    "t = a ; h=(b-a)/n\n",
    "m = 10.\n",
    "k = 2.\n",
    "p = 2 #to obtain anharmonic oscillation , p>=2\n",
    "#force function, the right hand side\n",
    "def f(t,y):\n",
    "    #f = f_ext+f_k\n",
    "    #f_ext :exerced by the hand\n",
    "    #f_k = restoring force of the spring\n",
    "    fReturn[0] = y[1]\n",
    "    fReturn[1] = -k/m*pow(y[0], p-1) \n",
    "    return fReturn"
   ]
  },
  {
   "cell_type": "code",
   "execution_count": 457,
   "metadata": {},
   "outputs": [],
   "source": [
    "def rk4(t,h,n):\n",
    "    k1 = [0]*n\n",
    "    k2 = [0]*n\n",
    "    k3 = [0]*n\n",
    "    k4 = [0]*n\n",
    "    fR = [0]*n\n",
    "    ydumb = [0]*n\n",
    "    fR = f(t,y)   #return right hand side\n",
    "    for i in range(0,n):\n",
    "        k1[i] = h*fR[i]\n",
    "    for i in range(0,n):\n",
    "        ydumb[i] =y[i] + k1[i]/2\n",
    "    k2 = h*f(t+h/2., ydumb)\n",
    "    for i in range(0,n):\n",
    "        ydumb[i] =y[i] + k1[i]/2\n",
    "    k3 = h*f(t+h/2., ydumb)\n",
    "    for i in range(0,n):\n",
    "        ydumb[i] = y[i] + k3[i]\n",
    "    k4 = h*f(t+h, ydumb)\n",
    "    for i in range(0,n):\n",
    "        y[i] = y[i] + (k1[i] +2.*(k2[i]+k3[i])+k4[i])/6. \n",
    "    return y"
   ]
  },
  {
   "cell_type": "code",
   "execution_count": 447,
   "metadata": {},
   "outputs": [
    {
     "data": {
      "text/html": [
       "<div id=\"glowscript\" class=\"glowscript\"></div>"
      ],
      "text/plain": [
       "<IPython.core.display.HTML object>"
      ]
     },
     "metadata": {},
     "output_type": "display_data"
    },
    {
     "data": {
      "application/javascript": [
       "if (typeof Jupyter !== \"undefined\") { window.__context = { glowscript_container: $(\"#glowscript\").removeAttr(\"id\")};}else{ element.textContent = ' ';}"
      ],
      "text/plain": [
       "<IPython.core.display.Javascript object>"
      ]
     },
     "metadata": {},
     "output_type": "display_data"
    }
   ],
   "source": [
    "scene = vp.canvas()\n",
    "potential_energy_graph = vp.graph(width = 500, height = 500, title = 'potential Energy plot', xtitle ='t',\n",
    "                       ytitle = 'potential Energy')\n",
    "potential_energy_plot = vp.gcurve(color = vp.color.red)\n",
    "kinetic_energy_graph = vp.graph(width = 500, height = 500, title = 'Kinetic Energy plot', xtitle ='t',\n",
    "                       ytitle = 'Kinetic Energy')\n",
    "kinetic_energy_plot = vp.gcurve(color = vp.color.magenta)\n",
    "total_energy_graph = vp.graph(width = 500, height = 500, title = 'Total Energy plot', xtitle ='t',\n",
    "                       ytitle = 'total Energy')\n",
    "total_energy_plot = vp.gcurve(color = vp.color.green)"
   ]
  },
  {
   "cell_type": "code",
   "execution_count": 444,
   "metadata": {},
   "outputs": [],
   "source": [
    "while (t<b):              #time loop\n",
    "    if ((t+h)>b):\n",
    "        h = b-t             #last step\n",
    "    y = rk4(t,h,2)\n",
    "    t = t+h\n",
    "    potential_energy = 1/p * k *pow(y[0],p)\n",
    "    kinetic_energy = m * (y[1]**2)/2\n",
    "    total_energy = potential_energy + kinetic_energy\n",
    "    vp.rate(30)\n",
    "    potential_energy_plot.plot(pos =(t, potential_energy))\n",
    "    kinetic_energy_plot.plot(pos =(t, kinetic_energy))\n",
    "    total_energy_plot.plot(pos =(t, total_energy))"
   ]
  },
  {
   "cell_type": "markdown",
   "metadata": {},
   "source": [
    "Check the long term stabilitay of your solution by plotting\n",
    "$-\\ln_{10}\\|\\frac{E(t)-E(t=0)}{E(t=0)}\\|\\approx$ number of places of precision.\n"
   ]
  },
  {
   "cell_type": "code",
   "execution_count": 448,
   "metadata": {},
   "outputs": [],
   "source": [
    "stability_graph = vp.graph(width = 500, height = 500, title = 'stabiltiy plot', \n",
    "                           xtitle ='t',\n",
    "                           ytitle = '-log|relative error|')\n",
    "stability_plot = vp.gcurve(color = vp.color.magenta)                          \n",
    "E0 = 1/p * k *pow(x_init,p) + m * (v_init**2)/2\n",
    "while (t<b):              #time loop\n",
    "    if ((t+h)>b):\n",
    "        h = b-t             #last step\n",
    "    y = rk4(t,h,2)\n",
    "    t = t+h\n",
    "    potential_energy = 1/p * k *pow(y[0],p)\n",
    "    kinetic_energy = m * (y[1]**2)/2\n",
    "    total_energy = potential_energy + kinetic_energy\n",
    "    vp.rate(30)\n",
    "    rel_error = -np.log(abs((total_energy-E0)/E0))\n",
    "    stability_plot.plot(pos = (t, rel_error))"
   ]
  },
  {
   "cell_type": "markdown",
   "metadata": {},
   "source": [
    "Because a particle bound by a large $p$-oscillator is essentially 'free' most of the time, you should observe that the average of its kinetic energy over time exceeds its average potential energy. This is actually the physics behind the Virial theorem for a power-law potential.\n",
    " \\begin{equation}\n",
    " \\langle KE\\rangle =\\frac{p}{2}\\langle PE\\rangle\n",
    " \\end{equation}\n",
    " Verify that your solution satisfies the Virial theorem."
   ]
  },
  {
   "cell_type": "code",
   "execution_count": 504,
   "metadata": {},
   "outputs": [],
   "source": [
    "a = 0.\n",
    "b =10.\n",
    "n = 100000\n",
    "ydumb = np.zeros((2), float); y = np.zeros((2), float)\n",
    "fReturn = np.zeros((2), float); k1 = np.zeros((2), float)\n",
    "k2 = np.zeros((2), float)\n",
    "x_init = y[0] = 20. #initial position\n",
    "v_init= y[1] = -5. #initial velocity\n",
    "t = a ; h=(b-a)/n\n",
    "m = 10.\n",
    "k = 2.\n",
    "p = 6."
   ]
  },
  {
   "cell_type": "code",
   "execution_count": 505,
   "metadata": {},
   "outputs": [
    {
     "name": "stdout",
     "output_type": "stream",
     "text": [
      "Virial theorem almost satisfied\n",
      "<KE>        p/2*<PE>\n",
      "16022498.92    16022029.51\n"
     ]
    }
   ],
   "source": [
    "sum_potential_energy =0\n",
    "sum_kinetic_energy = 0\n",
    "while (t<b):              #time loop\n",
    "    if ((t+h)>b):\n",
    "        h = b-t             #last step\n",
    "    y = rk4(t,h,2)\n",
    "    t = t+h\n",
    "    sum_potential_energy += 1/p * k *pow(y[0],p)\n",
    "    sum_kinetic_energy += m * (y[1]**2)/2\n",
    "average_PE = 1/n * sum_potential_energy\n",
    "average_KE = 1/n * sum_kinetic_energy\n",
    "print('Virial theorem almost satisfied')\n",
    "print ('<KE>        p/2*<PE>')\n",
    "print('%6.2f    %6.2f'% (average_KE, p/2* average_PE))"
   ]
  },
  {
   "cell_type": "markdown",
   "metadata": {},
   "source": [
    "### Nonlinear Resonances, Beats, Friction\n",
    "#### Friction"
   ]
  },
  {
   "cell_type": "code",
   "execution_count": null,
   "metadata": {},
   "outputs": [],
   "source": []
  }
 ],
 "metadata": {
  "kernelspec": {
   "display_name": "Python 3",
   "language": "python",
   "name": "python3"
  },
  "language_info": {
   "codemirror_mode": {
    "name": "ipython",
    "version": 3
   },
   "file_extension": ".py",
   "mimetype": "text/x-python",
   "name": "python",
   "nbconvert_exporter": "python",
   "pygments_lexer": "ipython3",
   "version": "3.8.1"
  },
  "latex_envs": {
   "LaTeX_envs_menu_present": true,
   "autoclose": false,
   "autocomplete": true,
   "bibliofile": "biblio.bib",
   "cite_by": "apalike",
   "current_citInitial": 1,
   "eqLabelWithNumbers": true,
   "eqNumInitial": 1,
   "hotkeys": {
    "equation": "Ctrl-E",
    "itemize": "Ctrl-I"
   },
   "labels_anchors": false,
   "latex_user_defs": false,
   "report_style_numbering": false,
   "user_envs_cfg": false
  },
  "toc": {
   "base_numbering": 1,
   "nav_menu": {},
   "number_sections": true,
   "sideBar": true,
   "skip_h1_title": false,
   "title_cell": "Table of Contents",
   "title_sidebar": "Contents",
   "toc_cell": false,
   "toc_position": {
    "height": "calc(100% - 180px)",
    "left": "10px",
    "top": "150px",
    "width": "255.458px"
   },
   "toc_section_display": true,
   "toc_window_display": true
  }
 },
 "nbformat": 4,
 "nbformat_minor": 4
}
