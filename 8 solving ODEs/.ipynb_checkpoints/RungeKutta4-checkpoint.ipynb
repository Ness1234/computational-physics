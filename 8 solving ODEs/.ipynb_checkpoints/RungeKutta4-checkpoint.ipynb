{
 "cells": [
  {
   "cell_type": "markdown",
   "metadata": {},
   "source": [
    "### Fourth Order Runge Kutta method $\\mathtt{rk4}$ \n",
    "Obtains $O(h^4)$ precision by approximating $y$ as a taylor series up to $h^2$ (a parabola) at the midpoint of the interval, which leads to the cancellation of lower order error.\n",
    "$\\mathtt{rk4}$  requires the evaluation of four intermediate slopes \n",
    "\\begin{equation}\n",
    "\\mathbf{y}_{n+1}=\\mathbf{y}_{n}+\\frac{1}{6}(\\mathbf{k}_1+2\\mathbf{k}_2+2\\mathbf{k}_3+\\mathbf{k}_4)\n",
    "\\end{equation}\n",
    "and these are approximated sith the Euler algorithm to: \n",
    "\\begin{align}\n",
    "\\mathbf{k}_1&=h\\cdot \\mathbf{f}(t_n,y_n)\\\\\n",
    "\\mathbf{k}_2&=h \\cdot \\mathbf{f}(t_n+\\frac{h}{2},y_n+\\frac{\\mathbf{k}_1}{2})\\\\\n",
    "\\mathbf{k}_3&=h \\cdot \\mathbf{f}(t_n+\\frac{h}{2},y_n+\\frac{\\mathbf{k}_2}{2})\\\\\n",
    "\\mathbf{k}_4&=h \\cdot \\mathbf{f}(t_n+h,y_n+\\mathbf{k}_3)\n",
    "\\end{align}"
   ]
  },
  {
   "cell_type": "code",
   "execution_count": 19,
   "metadata": {},
   "outputs": [],
   "source": [
    "import numpy as np\n",
    "import vpython as vp"
   ]
  },
  {
   "cell_type": "code",
   "execution_count": 20,
   "metadata": {},
   "outputs": [],
   "source": [
    "#Initialization\n",
    "a = 0.\n",
    "b = 10.\n",
    "n = 100\n",
    "ydumb = np.zeros((2), float); y = np.zeros((2), float)\n",
    "fReturn = np.zeros((2), float); k1 = np.zeros((2), float)\n",
    "k4 = np.zeros((2), float); k3 = np.zeros((2), float)\n",
    "k4 = np.zeros((2), float)\n",
    "y[0] = 3. ; y[1] = -5.\n",
    "t = a ; h=(b-a)/n\n",
    "\n",
    "#force function\n",
    "def f(t,y):\n",
    "    fReturn[0] = y[1]\n",
    "    fReturn[1] = -100.*y[0] -2.*y[1] + 10.*np.sin(3.*t)\n",
    "    return fReturn"
   ]
  },
  {
   "cell_type": "code",
   "execution_count": 21,
   "metadata": {},
   "outputs": [
    {
     "data": {
      "text/html": [
       "<div id=\"glowscript\" class=\"glowscript\"></div>"
      ],
      "text/plain": [
       "<IPython.core.display.HTML object>"
      ]
     },
     "metadata": {},
     "output_type": "display_data"
    },
    {
     "data": {
      "application/javascript": [
       "if (typeof Jupyter !== \"undefined\") { window.__context = { glowscript_container: $(\"#glowscript\").removeAttr(\"id\")};}else{ element.textContent = ' ';}"
      ],
      "text/plain": [
       "<IPython.core.display.Javascript object>"
      ]
     },
     "metadata": {},
     "output_type": "display_data"
    }
   ],
   "source": [
    "scene = vp.canvas()\n",
    "graph1 = vp.graph(x = 0, y = 0, width = 400, height = 400, title = 'RK4', xtitle = 't', \n",
    "                  ytitle = 'Y[0]', xmin = 0, xmax =10, ymin = -2, ymax = 3)\n",
    "funct1 = vp.gcurve(color = vp.color.yellow)\n",
    "graph2 = vp.graph(x = 0, y = 0, width = 400, height = 400, title = 'RK4', xtitle = 't', \n",
    "                  ytitle = 'Y[1]', xmin = 0, xmax =10, ymin = -25, ymax = 18)\n",
    "funct2 = vp.gcurve(color = vp.color.red)"
   ]
  },
  {
   "cell_type": "code",
   "execution_count": 22,
   "metadata": {},
   "outputs": [],
   "source": [
    "def rk4(t,h,n):\n",
    "    k1 = [0]*n\n",
    "    k2 = [0]*n\n",
    "    k3 = [0]*n\n",
    "    k4 = [0]*n\n",
    "    fR = [0]*n\n",
    "    ydumb = [0]*n\n",
    "    fR = f(t,y)   #return right hand side\n",
    "    for i in range(0,n):\n",
    "        k1[i] = h*fR[i]\n",
    "    for i in range(0,n):\n",
    "        ydumb[i] =y[i] + k1[i]/2\n",
    "    k2 = h*f(t+h/2., ydumb)\n",
    "    for i in range(0,n):\n",
    "        ydumb[i] =y[i] + k1[i]/2\n",
    "    k3 = h*f(t+h/2., ydumb)\n",
    "    for i in range(0,n):\n",
    "        ydumb[i] = y[i] + k3[i]\n",
    "    k4 = h*f(t+h, ydumb)\n",
    "    for i in range(0,2):\n",
    "        y[i] = y[i] + (k1[i] +2.*(k2[i]+k3[i])+k4[i])/6. \n",
    "    return y"
   ]
  },
  {
   "cell_type": "code",
   "execution_count": 23,
   "metadata": {},
   "outputs": [],
   "source": [
    "while (t<b):              #time loop\n",
    "    if ((t+h)>b):\n",
    "        h = b-t             #last step\n",
    "    y = rk4(t,h,2)\n",
    "    t = t+h\n",
    "    vp.rate(30)\n",
    "    funct1.plot(pos = (t,y[0]))\n",
    "    funct2.plot(pos = (t,y[1]))"
   ]
  },
  {
   "cell_type": "code",
   "execution_count": null,
   "metadata": {},
   "outputs": [],
   "source": []
  }
 ],
 "metadata": {
  "kernelspec": {
   "display_name": "Python 3",
   "language": "python",
   "name": "python3"
  },
  "language_info": {
   "codemirror_mode": {
    "name": "ipython",
    "version": 3
   },
   "file_extension": ".py",
   "mimetype": "text/x-python",
   "name": "python",
   "nbconvert_exporter": "python",
   "pygments_lexer": "ipython3",
   "version": "3.8.1"
  },
  "latex_envs": {
   "LaTeX_envs_menu_present": true,
   "autoclose": false,
   "autocomplete": true,
   "bibliofile": "biblio.bib",
   "cite_by": "apalike",
   "current_citInitial": 1,
   "eqLabelWithNumbers": true,
   "eqNumInitial": 1,
   "hotkeys": {
    "equation": "Ctrl-E",
    "itemize": "Ctrl-I"
   },
   "labels_anchors": false,
   "latex_user_defs": false,
   "report_style_numbering": false,
   "user_envs_cfg": false
  },
  "toc": {
   "base_numbering": 1,
   "nav_menu": {},
   "number_sections": true,
   "sideBar": true,
   "skip_h1_title": false,
   "title_cell": "Table of Contents",
   "title_sidebar": "Contents",
   "toc_cell": false,
   "toc_position": {},
   "toc_section_display": true,
   "toc_window_display": false
  }
 },
 "nbformat": 4,
 "nbformat_minor": 4
}
