{
 "cells": [
  {
   "cell_type": "markdown",
   "metadata": {},
   "source": [
    "### Stone throwing Integral"
   ]
  },
  {
   "cell_type": "markdown",
   "metadata": {},
   "source": [
    "Use sampling (Figure 5.5) to perform a 2D integration and thereby determine π:\n",
    "1. Imagine a circular pond enclosed in a square of side $2(r = 1)$.\n",
    "2. We know the analytic answer that the area of a circle $∮ dA = π$.\n",
    "3. Generate a sequence of random numbers $−1 ≤ r_i≤ +1$.\n",
    "4. For i = 1 to N, pick $(x_i , y_i) = (r_{2i−1} , r_{2i} )$.\n",
    "5. If $x^2_i+ y^2_i< 1$, let $N_{pond} = N_{pond} + 1$; otherwise let $N_{box} = N_{box} + 1$.\n",
    "6. Use $A_{pond}=\\frac{N_{pond}}{N_{pond}+N_{box}}A_{box}$ to calculate the area, and in this way π.\n",
    "7. Increase N until you get π to three significant figures (we don’t ask much –that’s only slide-rule accuracy)."
   ]
  },
  {
   "cell_type": "code",
   "execution_count": 20,
   "metadata": {},
   "outputs": [],
   "source": [
    "import numpy as np\n",
    "import random\n",
    "import matplotlib.pyplot as plt\n",
    "%matplotlib inline"
   ]
  },
  {
   "cell_type": "code",
   "execution_count": 25,
   "metadata": {},
   "outputs": [],
   "source": [
    "N = 2000\n",
    "N_pond = 0\n",
    "N_box = 0\n",
    "random.seed(None)\n",
    "r = np.zeros(2*N+1,float)\n",
    "for i in range(0,2*N+1):\n",
    "    r[i]=(random.random()-0.5) *2 # -1 <= ri <= 1"
   ]
  },
  {
   "cell_type": "code",
   "execution_count": 28,
   "metadata": {},
   "outputs": [
    {
     "data": {
      "image/png": "[encoded data removed]",
      "text/plain": [
       "<Figure size 432x288 with 1 Axes>"
      ]
     },
     "metadata": {
      "needs_background": "light"
     },
     "output_type": "display_data"
    }
   ],
   "source": [
    "fig, ax = plt.subplots()\n",
    "rectangle = plt.Rectangle((-1,-1) #position of the left bottom corner\n",
    "                          ,2 # width\n",
    "                          ,2 #height\n",
    "                          , fc='white', ec='black') #fc: facecolor #eg: edge color\n",
    "circle = plt.Circle((0,0) #centre position\n",
    "                   , 1 #radius\n",
    "                   , fc = 'white'\n",
    "                   , ec = 'red')\n",
    "fig.gca().add_patch(rectangle)\n",
    "fig.gca().add_patch(circle)\n",
    "ax.axis('scaled')\n",
    "for i in range(1,N+1):\n",
    "    x = r[2*i-1]\n",
    "    y = r[2*i]\n",
    "    if x**2+y**2 <1:\n",
    "        N_pond += 1\n",
    "        ax.plot(x,y,'ro',markersize = 0.9)\n",
    "    else:\n",
    "        N_box +=1\n",
    "        ax.plot(x,y, 'bo',markersize = 0.9)"
   ]
  },
  {
   "cell_type": "code",
   "execution_count": 29,
   "metadata": {},
   "outputs": [
    {
     "data": {
      "text/plain": [
       "3.178"
      ]
     },
     "execution_count": 29,
     "metadata": {},
     "output_type": "execute_result"
    }
   ],
   "source": [
    "A_pond = N_pond/(N_pond+N_box)*4\n",
    "A_pond"
   ]
  },
  {
   "cell_type": "code",
   "execution_count": null,
   "metadata": {},
   "outputs": [],
   "source": []
  }
 ],
 "metadata": {
  "kernelspec": {
   "display_name": "Python 3",
   "language": "python",
   "name": "python3"
  },
  "language_info": {
   "codemirror_mode": {
    "name": "ipython",
    "version": 3
   },
   "file_extension": ".py",
   "mimetype": "text/x-python",
   "name": "python",
   "nbconvert_exporter": "python",
   "pygments_lexer": "ipython3",
   "version": "3.8.1"
  },
  "latex_envs": {
   "LaTeX_envs_menu_present": true,
   "autoclose": false,
   "autocomplete": true,
   "bibliofile": "biblio.bib",
   "cite_by": "apalike",
   "current_citInitial": 1,
   "eqLabelWithNumbers": true,
   "eqNumInitial": 1,
   "hotkeys": {
    "equation": "Ctrl-E",
    "itemize": "Ctrl-I"
   },
   "labels_anchors": false,
   "latex_user_defs": false,
   "report_style_numbering": false,
   "user_envs_cfg": false
  },
  "toc": {
   "base_numbering": 1,
   "nav_menu": {},
   "number_sections": true,
   "sideBar": true,
   "skip_h1_title": false,
   "title_cell": "Table of Contents",
   "title_sidebar": "Contents",
   "toc_cell": false,
   "toc_position": {},
   "toc_section_display": true,
   "toc_window_display": false
  }
 },
 "nbformat": 4,
 "nbformat_minor": 4
}
