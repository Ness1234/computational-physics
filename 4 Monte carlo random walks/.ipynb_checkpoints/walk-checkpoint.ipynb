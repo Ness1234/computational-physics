{
 "cells": [
  {
   "cell_type": "markdown",
   "metadata": {},
   "source": [
    "### Random Walk\n",
    "An artificial walker takes sequential steps with the direction of each step independent of the direction of the previous step."
   ]
  },
  {
   "cell_type": "code",
   "execution_count": 45,
   "metadata": {},
   "outputs": [
    {
     "data": {
      "text/html": [
       "<div id=\"glowscript\" class=\"glowscript\"></div>"
      ],
      "text/plain": [
       "<IPython.core.display.HTML object>"
      ]
     },
     "metadata": {},
     "output_type": "display_data"
    },
    {
     "data": {
      "application/javascript": [
       "if (typeof Jupyter !== \"undefined\") { window.__context = { glowscript_container: $(\"#glowscript\").removeAttr(\"id\")};}else{ element.textContent = ' ';}"
      ],
      "text/plain": [
       "<IPython.core.display.Javascript object>"
      ]
     },
     "metadata": {},
     "output_type": "display_data"
    }
   ],
   "source": [
    "import vpython as vp\n",
    "import random\n",
    "import numpy as np\n",
    "scene = vp.canvas()"
   ]
  },
  {
   "cell_type": "code",
   "execution_count": 46,
   "metadata": {},
   "outputs": [],
   "source": [
    "def plot_random_walk(x, y, plotting_object, num_steps):\n",
    "    random.seed(None)\n",
    "    for i in range(0, num_steps + 1):\n",
    "        plotting_object.plot(pos = (x,y))    #plot points\n",
    "        dx_prime = (random.random() - 0.5)*2.     #-1 <= x <= 1\n",
    "        dy_prime = (random.random() - 0.5)*2.     #-1 <= y <=1\n",
    "        length = np.sqrt(dx_prime**2+dy_prime**2)\n",
    "        scaling_factor = 1/length\n",
    "        x += dx_prime * scaling_factor\n",
    "        y += dy_prime * scaling_factor\n",
    "        plotting_object.plot(pos = (x,y))\n",
    "        vp.rate(100)"
   ]
  },
  {
   "cell_type": "code",
   "execution_count": 47,
   "metadata": {},
   "outputs": [],
   "source": [
    "random.seed(None)  #seed generator, None => System clock"
   ]
  },
  {
   "cell_type": "code",
   "execution_count": 48,
   "metadata": {},
   "outputs": [],
   "source": [
    "jmax = 1000\n",
    "x = 0. ; y = 0.   #start at the origin"
   ]
  },
  {
   "cell_type": "code",
   "execution_count": 49,
   "metadata": {},
   "outputs": [],
   "source": [
    "graph1 = vp.graph(width = 500, height = 500, title = 'random walk', \n",
    "                 xtitle = 'x', ytitle = 'y')\n",
    "pts1 = vp.gcurve(color = vp.color.yellow)\n",
    "pts2 = vp.gcurve(color = vp.color.blue)\n",
    "pts3 = vp.gcurve(color = vp.color.red)\n",
    "pts4 = vp.gcurve(color = vp.color.green)\n",
    "pts5 = vp.gcurve(color = vp.color.magenta)\n",
    "pts6 = vp.gcurve(color = vp.color.black)"
   ]
  },
  {
   "cell_type": "code",
   "execution_count": null,
   "metadata": {},
   "outputs": [],
   "source": [
    "plot_random_walk(x, y, pts1,jmax)\n",
    "plot_random_walk(x, y, pts2,jmax)\n",
    "plot_random_walk(x, y, pts3,jmax)\n",
    "plot_random_walk(x, y, pts4,jmax)\n",
    "plot_random_walk(x, y, pts5,jmax)\n",
    "plot_random_walk(x, y, pts6,jmax)\n",
    "plot_random_walk(x, y, pts7,jmax)"
   ]
  },
  {
   "cell_type": "markdown",
   "metadata": {},
   "source": [
    "If you have your walker taking $N$ steps in a single trial, then conduct a total number $k\\approx \\sqrt{N}$ of trials. Each trial should have $N$ steps and start with a different seed.\\n\n",
    "Calculate the mean square distance $R^2$ for each trial and then take the average of $R^2$ for all your $K$ trials. "
   ]
  },
  {
   "cell_type": "code",
   "execution_count": 55,
   "metadata": {},
   "outputs": [],
   "source": [
    "N =1000\n",
    "k = np.sqrt(N)\n",
    "mean_square_distance = 0\n",
    "for i in range(0, int(k+1)):\n",
    "    random.seed(None)\n",
    "    for i in range(0, N + 1):\n",
    "        dx_prime = (random.random() - 0.5)*2.     #-1 <= x <= 1\n",
    "        dy_prime = (random.random() - 0.5)*2.     #-1 <= y <=1\n",
    "        length = np.sqrt(dx_prime**2+dy_prime**2)\n",
    "        scaling_factor = 1/length\n",
    "        x += dx_prime * scaling_factor\n",
    "        y += dy_prime * scaling_factor\n",
    "    walked_distance = x**2 + y**2\n",
    "    mean_square_distance += walked_distance\n",
    "mean_square_distance = mean_square_distance / k"
   ]
  },
  {
   "cell_type": "code",
   "execution_count": 56,
   "metadata": {},
   "outputs": [
    {
     "data": {
      "text/plain": [
       "17823.543801998672"
      ]
     },
     "execution_count": 56,
     "metadata": {},
     "output_type": "execute_result"
    }
   ],
   "source": [
    "mean_square_distance"
   ]
  },
  {
   "cell_type": "markdown",
   "metadata": {},
   "source": [
    "### 3D Walk"
   ]
  },
  {
   "cell_type": "code",
   "execution_count": null,
   "metadata": {},
   "outputs": [],
   "source": [
    "from visual import * \n",
    "import random \n",
    "random.seed(None) # None => system clock \n",
    "jmax = 1000 \n",
    "xx =yy = zz =0.0 # Start at origin \n",
    "graph1 = display(x=0,y=0,width = 600, height = 600, \n",
    "                 title = '3D Random Walk', \n",
    "                 forward=(-0.6,-0.5,-1)) \n",
    "pts = curve(x=list(range(0, 100)), \n",
    "            radius=10.0, color=color.yellow) \n",
    "xax = curve(x=list(range(0,1500)), \n",
    "            color=color.red, pos=[(0,0,0),(1500,0,0)], \n",
    "            radius=10.) \n",
    "yax = curve(x=list(range(0,1500)), \n",
    "            color=color.red, pos=[(0,0,0),(0,1500,0)],\n",
    "            radius=10.) \n",
    "zax = curve(x=list(range(0,1500)), \n",
    "            color=color.red, pos=[(0,0,0),(0,0,1500)], \n",
    "            radius=10.) \n",
    "xname = label( text = \"X\", pos = (1000, 150,0), \n",
    "              box=0) \n",
    "yname = label( text = \"Y\", pos = (-100,1000,0), \n",
    "              box=0) \n",
    "zname = label( text = \"Z\", pos = (100, 0,1000), \n",
    "              box=0) \n",
    "pts.x[0] = pts.y[0] = pts.z[0] =0 # Starting point \n",
    "for i in range(1, 100): \n",
    "    xx += (random.random() - 0.5)*2. # -1 =< x =< 1 \n",
    "    yy += (random.random() - 0.5)*2. # -1 =< y =< 1 \n",
    "    zz += (random.random() - 0.5)*2. # -1 =< z =< 1 \n",
    "    pts.x[i] = 200*xx - 100 \n",
    "    pts.y[i] = 200*yy - 100 \n",
    "    pts.z[i] = 200*zz - 100 \n",
    "    rate(100) \n",
    "    print(\"Walk's distance R =\", sqrt(xx*xx + yy*yy+zz*zz)) "
   ]
  }
 ],
 "metadata": {
  "kernelspec": {
   "display_name": "Python 3",
   "language": "python",
   "name": "python3"
  },
  "language_info": {
   "codemirror_mode": {
    "name": "ipython",
    "version": 3
   },
   "file_extension": ".py",
   "mimetype": "text/x-python",
   "name": "python",
   "nbconvert_exporter": "python",
   "pygments_lexer": "ipython3",
   "version": "3.8.1"
  },
  "latex_envs": {
   "LaTeX_envs_menu_present": true,
   "autoclose": false,
   "autocomplete": true,
   "bibliofile": "biblio.bib",
   "cite_by": "apalike",
   "current_citInitial": 1,
   "eqLabelWithNumbers": true,
   "eqNumInitial": 1,
   "hotkeys": {
    "equation": "Ctrl-E",
    "itemize": "Ctrl-I"
   },
   "labels_anchors": false,
   "latex_user_defs": false,
   "report_style_numbering": false,
   "user_envs_cfg": false
  },
  "toc": {
   "base_numbering": 1,
   "nav_menu": {},
   "number_sections": true,
   "sideBar": true,
   "skip_h1_title": false,
   "title_cell": "Table of Contents",
   "title_sidebar": "Contents",
   "toc_cell": false,
   "toc_position": {},
   "toc_section_display": true,
   "toc_window_display": false
  }
 },
 "nbformat": 4,
 "nbformat_minor": 4
}
