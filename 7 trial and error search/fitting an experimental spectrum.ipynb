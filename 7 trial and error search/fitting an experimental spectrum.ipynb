{
 "cells": [
  {
   "cell_type": "markdown",
   "metadata": {},
   "source": [
    "### "
   ]
  },
  {
   "cell_type": "code",
   "execution_count": 3,
   "metadata": {},
   "outputs": [],
   "source": [
    "import pandas as pd\n",
    "import numpy as np"
   ]
  },
  {
   "cell_type": "code",
   "execution_count": 4,
   "metadata": {},
   "outputs": [],
   "source": [
    "data_matrix = np.array([[0,25,50,75,100,125,150,175,200],[10.6,16.0,45.0,83.5,52.8,19.9,10.8,8.24,4.7],[9.34,17.9,41.5,85.5,51.5,21.5,10.8,6.29,4.14]])"
   ]
  },
  {
   "cell_type": "code",
   "execution_count": 7,
   "metadata": {},
   "outputs": [],
   "source": [
    "df = pd.DataFrame(data=data_matrix, dtype=np.float64, index =['E_i','g(E_i)','Error'] )"
   ]
  },
  {
   "cell_type": "code",
   "execution_count": 8,
   "metadata": {},
   "outputs": [
    {
     "data": {
      "text/html": [
       "<div>\n",
       "<style scoped>\n",
       "    .dataframe tbody tr th:only-of-type {\n",
       "        vertical-align: middle;\n",
       "    }\n",
       "\n",
       "    .dataframe tbody tr th {\n",
       "        vertical-align: top;\n",
       "    }\n",
       "\n",
       "    .dataframe thead th {\n",
       "        text-align: right;\n",
       "    }\n",
       "</style>\n",
       "<table border=\"1\" class=\"dataframe\">\n",
       "  <thead>\n",
       "    <tr style=\"text-align: right;\">\n",
       "      <th></th>\n",
       "      <th>0</th>\n",
       "      <th>1</th>\n",
       "      <th>2</th>\n",
       "      <th>3</th>\n",
       "      <th>4</th>\n",
       "      <th>5</th>\n",
       "      <th>6</th>\n",
       "      <th>7</th>\n",
       "      <th>8</th>\n",
       "    </tr>\n",
       "  </thead>\n",
       "  <tbody>\n",
       "    <tr>\n",
       "      <th>E_i</th>\n",
       "      <td>0.00</td>\n",
       "      <td>25.0</td>\n",
       "      <td>50.0</td>\n",
       "      <td>75.0</td>\n",
       "      <td>100.0</td>\n",
       "      <td>125.0</td>\n",
       "      <td>150.0</td>\n",
       "      <td>175.00</td>\n",
       "      <td>200.00</td>\n",
       "    </tr>\n",
       "    <tr>\n",
       "      <th>g(E_i)</th>\n",
       "      <td>10.60</td>\n",
       "      <td>16.0</td>\n",
       "      <td>45.0</td>\n",
       "      <td>83.5</td>\n",
       "      <td>52.8</td>\n",
       "      <td>19.9</td>\n",
       "      <td>10.8</td>\n",
       "      <td>8.24</td>\n",
       "      <td>4.70</td>\n",
       "    </tr>\n",
       "    <tr>\n",
       "      <th>Error</th>\n",
       "      <td>9.34</td>\n",
       "      <td>17.9</td>\n",
       "      <td>41.5</td>\n",
       "      <td>85.5</td>\n",
       "      <td>51.5</td>\n",
       "      <td>21.5</td>\n",
       "      <td>10.8</td>\n",
       "      <td>6.29</td>\n",
       "      <td>4.14</td>\n",
       "    </tr>\n",
       "  </tbody>\n",
       "</table>\n",
       "</div>"
      ],
      "text/plain": [
       "            0     1     2     3      4      5      6       7       8\n",
       "E_i      0.00  25.0  50.0  75.0  100.0  125.0  150.0  175.00  200.00\n",
       "g(E_i)  10.60  16.0  45.0  83.5   52.8   19.9   10.8    8.24    4.70\n",
       "Error    9.34  17.9  41.5  85.5   51.5   21.5   10.8    6.29    4.14"
      ]
     },
     "execution_count": 8,
     "metadata": {},
     "output_type": "execute_result"
    }
   ],
   "source": [
    "df"
   ]
  },
  {
   "cell_type": "code",
   "execution_count": 31,
   "metadata": {},
   "outputs": [],
   "source": [
    "def lagrange_interpolation(x,evaluation_points, function_values):\n",
    "    g = 0\n",
    "    for i in range(0,np.size(evaluation_points)):\n",
    "        lambdai = 1\n",
    "        for j in range(0,np.size(evaluation_points)):\n",
    "            if i != j:\n",
    "                lambdai *= ((x-evaluation_points[j])/(evaluation_points[i]-evaluation_points[j]))\n",
    "        g += function_values[i]*lambdai\n",
    "    return g"
   ]
  },
  {
   "cell_type": "code",
   "execution_count": 86,
   "metadata": {},
   "outputs": [
    {
     "data": {
      "text/html": [
       "<div id=\"glowscript\" class=\"glowscript\"></div>"
      ],
      "text/plain": [
       "<IPython.core.display.HTML object>"
      ]
     },
     "metadata": {},
     "output_type": "display_data"
    },
    {
     "data": {
      "application/javascript": [
       "if (typeof Jupyter !== \"undefined\") { window.__context = { glowscript_container: $(\"#glowscript\").removeAttr(\"id\")};}else{ element.textContent = ' ';}"
      ],
      "text/plain": [
       "<IPython.core.display.Javascript object>"
      ]
     },
     "metadata": {},
     "output_type": "display_data"
    }
   ],
   "source": [
    "import vpython as vp\n",
    "scene = vp.canvas()"
   ]
  },
  {
   "cell_type": "code",
   "execution_count": 87,
   "metadata": {},
   "outputs": [],
   "source": [
    "graph1 = vp.graph(width = 1000, height = 500, title = 'cross section vs energy', xtitle='Energy', ytitle='cross section')"
   ]
  },
  {
   "cell_type": "code",
   "execution_count": 88,
   "metadata": {},
   "outputs": [],
   "source": [
    "lagrange_plot = vp.gcurve(color = vp.color.magenta, label='Lagrange interpolation')\n",
    "data_plot = vp.gdots(color = vp.color.blue, label='data points')\n",
    "lagrange_3points = vp.gcurve(color = vp.color.red, label = '3 points Lagrange Interpolation')\n",
    "evaluation_points=data_matrix[0,:]\n",
    "function_values = data_matrix[1,:]"
   ]
  },
  {
   "cell_type": "code",
   "execution_count": 89,
   "metadata": {},
   "outputs": [],
   "source": [
    "#plot data\n",
    "for i in range(0,np.size(evaluation_points)):\n",
    "    data_plot.plot(pos=(evaluation_points[i],function_values[i]))"
   ]
  },
  {
   "cell_type": "code",
   "execution_count": 90,
   "metadata": {},
   "outputs": [],
   "source": [
    "# plot lagrange \n",
    "for i in np.arange(0, evaluation_points[-1],0.1):\n",
    "    lagrange_plot.plot(pos = (i,lagrange_interpolation(i,evaluation_points, function_values)))"
   ]
  },
  {
   "cell_type": "code",
   "execution_count": 91,
   "metadata": {},
   "outputs": [
    {
     "name": "stdout",
     "output_type": "stream",
     "text": [
      "[ 0. 25. 50.] [10.6 16.  45. ]\n",
      "[ 75. 100. 125.] [83.5 52.8 19.9]\n"
     ]
    }
   ],
   "source": [
    "for j in range(0, int(np.size(evaluation_points)/3)-1):\n",
    "    print(evaluation_points[j*3:j*3+3], function_values[j*3:j*3+3])\n",
    "    for i in np.arange(j*3, evaluation_points[j*3+3],0.1):\n",
    "        lagrange_3points.plot(pos = (i,lagrange_interpolation(i,evaluation_points[j*3:j*3+3], function_values[j*3:j*3+3])))"
   ]
  },
  {
   "cell_type": "code",
   "execution_count": null,
   "metadata": {},
   "outputs": [],
   "source": []
  }
 ],
 "metadata": {
  "kernelspec": {
   "display_name": "Python 3",
   "language": "python",
   "name": "python3"
  },
  "language_info": {
   "codemirror_mode": {
    "name": "ipython",
    "version": 3
   },
   "file_extension": ".py",
   "mimetype": "text/x-python",
   "name": "python",
   "nbconvert_exporter": "python",
   "pygments_lexer": "ipython3",
   "version": "3.8.1"
  },
  "latex_envs": {
   "LaTeX_envs_menu_present": true,
   "autoclose": false,
   "autocomplete": true,
   "bibliofile": "biblio.bib",
   "cite_by": "apalike",
   "current_citInitial": 1,
   "eqLabelWithNumbers": true,
   "eqNumInitial": 1,
   "hotkeys": {
    "equation": "Ctrl-E",
    "itemize": "Ctrl-I"
   },
   "labels_anchors": false,
   "latex_user_defs": false,
   "report_style_numbering": false,
   "user_envs_cfg": false
  },
  "toc": {
   "base_numbering": 1,
   "nav_menu": {},
   "number_sections": true,
   "sideBar": true,
   "skip_h1_title": false,
   "title_cell": "Table of Contents",
   "title_sidebar": "Contents",
   "toc_cell": false,
   "toc_position": {},
   "toc_section_display": true,
   "toc_window_display": false
  }
 },
 "nbformat": 4,
 "nbformat_minor": 4
}
