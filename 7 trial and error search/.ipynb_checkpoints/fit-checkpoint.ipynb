{
 "cells": [
  {
   "cell_type": "markdown",
   "metadata": {},
   "source": [
    "### Linear least square fitting\n",
    "We want to fit a parametrized function $g(x)=g(x;\\{a_1,a_2,...,a_{M_p}\\})=g(x;\\{a_m\\})$ to the data where $a_i$'s are the parameters and $x$ is the independent variables. As a measure of how well the function fits the data, choose \n",
    "\n",
    "$\\chi^2:= \\sum_{i=1}^{N_d} \\left( \\frac{y_i-g(x_i;\\{a_m\\})}{\\sigma_i}\\right)^2$\n",
    "\n",
    "Where we sum over $N_d$ data points $(x_i,y_i\\pm\\sigma_i)$ and $\\sigma_i$ is the error in measurement of $y_i$. In order to achieve the best fit, we choose the parameters that minimize the measure $\\chi_i$. This results in $M_p$ simultaneous equations:\n",
    "\\begin{equation}\n",
    "\\frac{\\partial \\chi^2}{\\partial a_m} =0,\\quad \\Rightarrow \\sum_{i=1}^{N_d}\\frac{y_i-g(x_i;\\{a_m\\})}{\\sigma_i^2}\\frac{\\partial g(x_i)}{\\partial a_m}=0, \\quad \\forall m=1,...,M_p\n",
    "\\end{equation}\n",
    "A solution represents the maximum likelihood that the deduced parameters provide a correct description of the data for the theoretical function $g(x)$."
   ]
  },
  {
   "cell_type": "markdown",
   "metadata": {},
   "source": [
    "#### Fitting exponential Decay\n",
    "Fit the exponential Decay data. We try to find the best fit line, the parameters here are $\\tau$ and $\\frac{\\Delta N(0)}{\\Delta t}$."
   ]
  },
  {
   "cell_type": "code",
   "execution_count": 2,
   "metadata": {},
   "outputs": [],
   "source": [
    "import matplotlib.pyplot as p \n",
    "from numpy import*; from numpy.linalg import inv, solve "
   ]
  },
  {
   "cell_type": "code",
   "execution_count": 19,
   "metadata": {},
   "outputs": [],
   "source": [
    "x=array([5.,15.,25.,35.,45.,55.,65.,75.,85.,95.,105.,115.,125.])\n",
    "y=array([32.,17.,21.,5.25,5.35,5.12,4.9,2.,3.,0.,4.,1.,0.])\n",
    "sig = array([1, 1, 2, 3, 2, 1, 1,2,1,1,1,1,0.9])"
   ]
  },
  {
   "cell_type": "code",
   "execution_count": 23,
   "metadata": {},
   "outputs": [
    {
     "data": {
      "text/plain": [
       "<matplotlib.legend.Legend at 0x2519e0f3460>"
      ]
     },
     "execution_count": 23,
     "metadata": {},
     "output_type": "execute_result"
    },
    {
     "data": {
      "image/png": "[encoded data removed]",
      "text/plain": [
       "<Figure size 432x288 with 1 Axes>"
      ]
     },
     "metadata": {
      "needs_background": "light"
     },
     "output_type": "display_data"
    }
   ],
   "source": [
    "fig,ax = p.subplots()\n",
    "ax.plot(x,y,'b-')\n",
    "ax.errorbar(x,y,sig)\n",
    "ax.legend('Data points')\n",
    "s = sx = sy = sxx = sxy = 0\n",
    "for i in range(0,size(x)):\n",
    "    s+=1/(sig[i]**2)\n",
    "    sx += x[i]/sig[i]**2\n",
    "    sy += y[i]/sig[i]**2\n",
    "    sxx += x[i]**2/sig[i]**2\n",
    "    sxy += x[i]*y[i]/sig[i]**2\n",
    "delta = s*sxx - sx**2\n",
    "a1 = (sxx*sy-sx*sxy)/delta\n",
    "a2 = (s*sxy-sx*sy)/delta"
   ]
  },
  {
   "cell_type": "code",
   "execution_count": 8,
   "metadata": {},
   "outputs": [
    {
     "data": {
      "text/plain": [
       "[<matplotlib.lines.Line2D at 0x2519dce89a0>]"
      ]
     },
     "execution_count": 8,
     "metadata": {},
     "output_type": "execute_result"
    }
   ],
   "source": []
  },
  {
   "cell_type": "markdown",
   "metadata": {},
   "source": [
    "#### Quadratic fit (Fitting a parabola to the data)\n",
    "When the polynomial $g(x)=a_1+a_2x+a_3x^2+...$ we want to fit depends linearly on the parameters $a_1, a_2,...$\n"
   ]
  },
  {
   "cell_type": "code",
   "execution_count": 1,
   "metadata": {},
   "outputs": [
    {
     "name": "stdout",
     "output_type": "stream",
     "text": [
      "\n",
      " x via Inverse A\n",
      " [[ 1002.06558106 -2280.45983096  1269.8244017 ]\n",
      " [-1432.41585118  3291.93302443 -1847.84729682]\n",
      " [  483.14350806 -1119.31382351   633.40751278]] \n",
      "\n",
      "\n",
      " x via Elimination \n",
      " [-8.5698482  11.66987644 -2.76280268] \n",
      " Fit to Parabola\n",
      "\n",
      "y(x) = a0 + a1 x + a2 x^2\n",
      " a0 = -8.569848198879479 a1 = 11.669876436107684 a2 = -2.7628026787224815\n",
      "\n",
      " i   xi     yi    yfit   \n",
      " 0 1.000  0.520  0.3372256\n",
      " 1 1.100  0.800  0.9240246\n",
      " 2 1.240  0.700  1.6527132\n",
      " 3 1.350  1.800  2.1492771\n",
      " 4 1.451  2.900  2.5463350\n",
      " 5 1.500  2.900  2.7186604\n",
      " 6 1.920  3.600  3.6515188\n"
     ]
    },
    {
     "data": {
      "image/png": "[encoded data removed]",
      "text/plain": [
       "<Figure size 432x288 with 1 Axes>"
      ]
     },
     "metadata": {
      "needs_background": "light"
     },
     "output_type": "display_data"
    }
   ],
   "source": [
    "# Fit.py: Linear least square fit via matrix solution\n",
    "\n",
    "import matplotlib.pyplot as p \n",
    "from numpy import*; from numpy.linalg import inv, solve \n",
    "\n",
    "Nd = 7\n",
    "A = zeros((3,3), float);  bvec = zeros((3,1), float)  # Declare\n",
    "ss= sx = sxx = sy = sxxx = sxxxx = sxy = sxy = sxxy = 0.\n",
    "x = array([1., 1.1, 1.24, 1.35,  1.451, 1.5, 1.92])           \n",
    "y = array([0.52, 0.8, 0.7, 1.8, 2.9, 2.9, 3.6])               \n",
    "sig = array([0.1, 0.1, 0.2, 0.3, 0.2, 0.1, 0.1])    # Error bars\n",
    "xRange = arange(1.0, 2.0, 0.1)                      # For plots\n",
    "p.plot(x, y, 'bo')                                  # Blue data\n",
    "p.errorbar(x,y,sig)                                      \n",
    "p.title('Least Square Fit of Parabola to Blue Data')                           \n",
    "p.xlabel('x');  p.ylabel('y');   p.grid(True)        # Plot grid\n",
    "\n",
    "for i in range(0, Nd):                                      \n",
    "    sig2 = sig[i] * sig[i]\n",
    "    ss  += 1. / sig2; sx += x[i]/sig2; sy += y[i]/sig2\n",
    "    rhl  = x[i] * x[i]; sxx += rhl/sig2;  sxxy += rhl*y[i]/sig2\n",
    "    sxy += x[i]*y[i]/sig2; sxxx +=rhl*x[i]/sig2; sxxxx +=rhl*rhl/sig2\n",
    "A    = array([ [ss,sx,sxx], [sx,sxx,sxxx], [sxx,sxxx,sxxxx] ])\n",
    "bvec = array([sy, sxy, sxxy])\n",
    "xvec = multiply(inv(A), bvec)                  # Invert matrix\n",
    "print('\\n x via Inverse A\\n', xvec, '\\n' )\n",
    "xvec = solve(A, bvec)                   # Solve via elimination\n",
    "print('\\n x via Elimination \\n', xvec, '\\n Fit to Parabola\\n') \n",
    "print('y(x) = a0 + a1 x + a2 x^2\\n a0 =', xvec[0],'a1 =', xvec[1], 'a2 =', xvec[2])      \n",
    "print('\\n i   xi     yi    yfit   ')\n",
    "for i in range(0, Nd):\n",
    "    s = xvec[0] + xvec[1]*x[i] + xvec[2]*x[i]*x[i]\n",
    "    print(\" %d %5.3f  %5.3f  %8.7f\"  %(i, x[i], y[i], s))\n",
    "# red line is the fit, red dots the fits at y[i]m \n",
    "curve  = xvec[0] + xvec[1]*xRange + xvec[2]*xRange**2\n",
    "points = xvec[0] + xvec[1]*x + xvec[2]*x**2\n",
    "p.plot(xRange, curve,'r', x, points, 'ro')\n",
    "p.show()"
   ]
  },
  {
   "cell_type": "code",
   "execution_count": null,
   "metadata": {},
   "outputs": [],
   "source": []
  }
 ],
 "metadata": {
  "kernelspec": {
   "display_name": "Python 3",
   "language": "python",
   "name": "python3"
  },
  "language_info": {
   "codemirror_mode": {
    "name": "ipython",
    "version": 3
   },
   "file_extension": ".py",
   "mimetype": "text/x-python",
   "name": "python",
   "nbconvert_exporter": "python",
   "pygments_lexer": "ipython3",
   "version": "3.8.1"
  },
  "latex_envs": {
   "LaTeX_envs_menu_present": true,
   "autoclose": false,
   "autocomplete": true,
   "bibliofile": "biblio.bib",
   "cite_by": "apalike",
   "current_citInitial": 1,
   "eqLabelWithNumbers": true,
   "eqNumInitial": 1,
   "hotkeys": {
    "equation": "Ctrl-E",
    "itemize": "Ctrl-I"
   },
   "labels_anchors": false,
   "latex_user_defs": false,
   "report_style_numbering": false,
   "user_envs_cfg": false
  },
  "toc": {
   "base_numbering": 1,
   "nav_menu": {},
   "number_sections": true,
   "sideBar": true,
   "skip_h1_title": false,
   "title_cell": "Table of Contents",
   "title_sidebar": "Contents",
   "toc_cell": false,
   "toc_position": {},
   "toc_section_display": true,
   "toc_window_display": false
  }
 },
 "nbformat": 4,
 "nbformat_minor": 4
}
