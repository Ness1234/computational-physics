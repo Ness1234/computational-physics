{
 "cells": [
  {
   "cell_type": "code",
   "execution_count": 1,
   "metadata": {},
   "outputs": [
    {
     "data": {
      "text/html": [
       "<div id=\"glowscript\" class=\"glowscript\"></div>"
      ],
      "text/plain": [
       "<IPython.core.display.HTML object>"
      ]
     },
     "metadata": {},
     "output_type": "display_data"
    },
    {
     "data": {
      "application/javascript": [
       "if (typeof Jupyter !== \"undefined\") { window.__context = { glowscript_container: $(\"#glowscript\").removeAttr(\"id\")};}else{ element.textContent = ' ';}"
      ],
      "text/plain": [
       "<IPython.core.display.Javascript object>"
      ]
     },
     "metadata": {},
     "output_type": "display_data"
    }
   ],
   "source": [
    "import numpy as np\n",
    "import vpython as vp"
   ]
  },
  {
   "cell_type": "code",
   "execution_count": 45,
   "metadata": {},
   "outputs": [],
   "source": [
    "def Bisection(Xminus, Xplus, Nmax, eps): # Do not change \n",
    "    for it in range(0, Nmax): \n",
    "        print(Xminus, Xplus)\n",
    "        slope = (f(Xplus)-f(Xminus))/(Xplus-Xminus)\n",
    "        for j in np.arange(Xminus,Xplus,0.01):\n",
    "            bisection_line.plot(pos = (j,f(Xminus)+slope*(j-Xminus)))\n",
    "        x = (Xplus + Xminus)/2.\n",
    "        print(\" it =\", it, \" x = \", x, \" f(x) =\", f(x)) \n",
    "        if (f(Xplus)*f(x) > 0.): #root in other half\n",
    "            Xplus = x # Change x+ to x \n",
    "        else: \n",
    "            Xminus = x # Change x- to x \n",
    "        if (abs(f(x) ) < eps): # Converged? \n",
    "            print(\"\\n Root found with precision eps = \", eps) \n",
    "            break \n",
    "        if it == Nmax-1: \n",
    "            print (\"\\n No root after N iterations\\n\") \n",
    "    return x "
   ]
  },
  {
   "cell_type": "code",
   "execution_count": 70,
   "metadata": {},
   "outputs": [
    {
     "data": {
      "text/html": [
       "<div id=\"glowscript\" class=\"glowscript\"></div>"
      ],
      "text/plain": [
       "<IPython.core.display.HTML object>"
      ]
     },
     "metadata": {},
     "output_type": "display_data"
    },
    {
     "data": {
      "application/javascript": [
       "if (typeof Jupyter !== \"undefined\") { window.__context = { glowscript_container: $(\"#glowscript\").removeAttr(\"id\")};}else{ element.textContent = ' ';}"
      ],
      "text/plain": [
       "<IPython.core.display.Javascript object>"
      ]
     },
     "metadata": {},
     "output_type": "display_data"
    }
   ],
   "source": [
    "scene = vp.canvas()"
   ]
  },
  {
   "cell_type": "code",
   "execution_count": 71,
   "metadata": {},
   "outputs": [],
   "source": [
    "graph1= vp.graph(title='Bound state function', xtitle='E_B', ytitle ='f(E)')\n",
    "energy_plot = vp.gcurve(color = vp.color.red, width = 3)\n",
    "zero_line = vp.gcurve(color=vp.color.black, width =1)\n",
    "bisection_line = vp.gcurve(color=vp.color.blue, width =3)\n",
    "def f(E):\n",
    "    cotan = np.cos(np.sqrt(10-E))/np.sin(np.sqrt(10-E))\n",
    "    return np.sqrt(10-E)*cotan-np.sqrt(E)"
   ]
  },
  {
   "cell_type": "code",
   "execution_count": 74,
   "metadata": {},
   "outputs": [
    {
     "name": "stderr",
     "output_type": "stream",
     "text": [
      "<ipython-input-71-f84b3e94df9c>:7: RuntimeWarning: invalid value encountered in sqrt\n",
      "  return np.sqrt(10-E)*cotan-np.sqrt(E)\n"
     ]
    }
   ],
   "source": [
    "for E in np.arange(-3,3,.1):\n",
    "    energy_plot.plot(pos =(E,f(E)) )\n",
    "    zero_line.plot(pos=(E,0))"
   ]
  },
  {
   "cell_type": "code",
   "execution_count": 73,
   "metadata": {},
   "outputs": [
    {
     "name": "stdout",
     "output_type": "stream",
     "text": [
      "7.4 7.7\n",
      " it = 0  x =  7.550000000000001  f(x) = -2.739041087807031\n",
      "7.4 7.550000000000001\n",
      " it = 1  x =  7.4750000000000005  f(x) = -2.763013421089977\n",
      "7.4 7.4750000000000005\n",
      " it = 2  x =  7.4375  f(x) = -2.7751914108363205\n",
      "7.4 7.4375\n",
      " it = 3  x =  7.41875  f(x) = -2.7813292526926308\n",
      "7.4 7.41875\n",
      " it = 4  x =  7.409375000000001  f(x) = -2.7844104989601157\n",
      "7.4 7.409375000000001\n",
      " it = 5  x =  7.4046875000000005  f(x) = -2.7859542177676944\n",
      "7.4 7.4046875000000005\n",
      " it = 6  x =  7.40234375  f(x) = -2.7867268528911446\n",
      "7.4 7.40234375\n",
      " it = 7  x =  7.401171875  f(x) = -2.787113364608489\n",
      "7.4 7.401171875\n",
      " it = 8  x =  7.400585937500001  f(x) = -2.7873066690343142\n",
      "7.4 7.400585937500001\n",
      " it = 9  x =  7.4002929687500005  f(x) = -2.787403333392548\n",
      "7.4 7.4002929687500005\n",
      " it = 10  x =  7.400146484375  f(x) = -2.7874516686084374\n",
      "7.4 7.400146484375\n",
      " it = 11  x =  7.4000732421875  f(x) = -2.7874758369756303\n",
      "7.4 7.4000732421875\n",
      " it = 12  x =  7.400036621093751  f(x) = -2.7874879213490455\n",
      "7.4 7.400036621093751\n",
      " it = 13  x =  7.4000183105468755  f(x) = -2.787493963583209\n",
      "7.4 7.4000183105468755\n",
      " it = 14  x =  7.4000091552734375  f(x) = -2.7874969847121545\n",
      "7.4 7.4000091552734375\n",
      " it = 15  x =  7.400004577636719  f(x) = -2.7874984952795936\n",
      "7.4 7.400004577636719\n",
      " it = 16  x =  7.40000228881836  f(x) = -2.7874992505640543\n",
      "7.4 7.40000228881836\n",
      " it = 17  x =  7.40000114440918  f(x) = -2.7874996282064703\n",
      "7.4 7.40000114440918\n",
      " it = 18  x =  7.40000057220459  f(x) = -2.787499817027725\n",
      "7.4 7.40000057220459\n",
      " it = 19  x =  7.400000286102295  f(x) = -2.7874999114383634\n",
      "7.4 7.400000286102295\n",
      " it = 20  x =  7.400000143051148  f(x) = -2.7874999586436853\n",
      "7.4 7.400000143051148\n",
      " it = 21  x =  7.400000071525574  f(x) = -2.787499982246347\n",
      "7.4 7.400000071525574\n",
      " it = 22  x =  7.400000035762787  f(x) = -2.7874999940476783\n",
      "7.4 7.400000035762787\n",
      " it = 23  x =  7.400000017881394  f(x) = -2.787499999948344\n",
      "7.4 7.400000017881394\n",
      " it = 24  x =  7.400000008940697  f(x) = -2.7875000028986765\n",
      "7.4 7.400000008940697\n",
      " it = 25  x =  7.400000004470349  f(x) = -2.787500004373843\n",
      "7.4 7.400000004470349\n",
      " it = 26  x =  7.400000002235174  f(x) = -2.7875000051114265\n",
      "7.4 7.400000002235174\n",
      " it = 27  x =  7.400000001117587  f(x) = -2.7875000054802177\n",
      "7.4 7.400000001117587\n",
      " it = 28  x =  7.400000000558794  f(x) = -2.7875000056646133\n",
      "7.4 7.400000000558794\n",
      " it = 29  x =  7.400000000279397  f(x) = -2.7875000057568116\n",
      "7.4 7.400000000279397\n",
      " it = 30  x =  7.400000000139698  f(x) = -2.7875000058029107\n",
      "7.4 7.400000000139698\n",
      " it = 31  x =  7.400000000069849  f(x) = -2.78750000582596\n",
      "7.4 7.400000000069849\n",
      " it = 32  x =  7.400000000034925  f(x) = -2.787500005837485\n",
      "7.4 7.400000000034925\n",
      " it = 33  x =  7.400000000017463  f(x) = -2.7875000058432473\n",
      "7.4 7.400000000017463\n",
      " it = 34  x =  7.400000000008731  f(x) = -2.7875000058461286\n",
      "7.4 7.400000000008731\n",
      " it = 35  x =  7.400000000004366  f(x) = -2.787500005847569\n",
      "7.4 7.400000000004366\n",
      " it = 36  x =  7.4000000000021835  f(x) = -2.787500005848289\n",
      "7.4 7.4000000000021835\n",
      " it = 37  x =  7.400000000001092  f(x) = -2.787500005848649\n",
      "7.4 7.400000000001092\n",
      " it = 38  x =  7.400000000000546  f(x) = -2.7875000058488295\n",
      "7.4 7.400000000000546\n",
      " it = 39  x =  7.400000000000273  f(x) = -2.787500005848919\n",
      "7.4 7.400000000000273\n",
      " it = 40  x =  7.400000000000137  f(x) = -2.7875000058489645\n",
      "7.4 7.400000000000137\n",
      " it = 41  x =  7.400000000000069  f(x) = -2.787500005848987\n",
      "7.4 7.400000000000069\n",
      " it = 42  x =  7.400000000000034  f(x) = -2.7875000058489983\n",
      "7.4 7.400000000000034\n",
      " it = 43  x =  7.400000000000017  f(x) = -2.7875000058490036\n",
      "7.4 7.400000000000017\n",
      " it = 44  x =  7.400000000000009  f(x) = -2.7875000058490067\n",
      "7.4 7.400000000000009\n",
      " it = 45  x =  7.400000000000005  f(x) = -2.787500005849008\n",
      "7.4 7.400000000000005\n",
      " it = 46  x =  7.400000000000002  f(x) = -2.787500005849009\n",
      "7.4 7.400000000000002\n",
      " it = 47  x =  7.400000000000001  f(x) = -2.7875000058490094\n",
      "7.4 7.400000000000001\n",
      " it = 48  x =  7.4  f(x) = -2.7875000058490094\n",
      "7.4 7.4\n",
      " it = 49  x =  7.4  f(x) = -2.7875000058490094\n",
      "7.4 7.4\n",
      " it = 50  x =  7.4  f(x) = -2.7875000058490094\n",
      "7.4 7.4\n",
      " it = 51  x =  7.4  f(x) = -2.7875000058490094\n",
      "7.4 7.4\n",
      " it = 52  x =  7.4  f(x) = -2.7875000058490094\n",
      "7.4 7.4\n",
      " it = 53  x =  7.4  f(x) = -2.7875000058490094\n",
      "7.4 7.4\n",
      " it = 54  x =  7.4  f(x) = -2.7875000058490094\n",
      "7.4 7.4\n",
      " it = 55  x =  7.4  f(x) = -2.7875000058490094\n",
      "7.4 7.4\n",
      " it = 56  x =  7.4  f(x) = -2.7875000058490094\n",
      "7.4 7.4\n",
      " it = 57  x =  7.4  f(x) = -2.7875000058490094\n",
      "7.4 7.4\n",
      " it = 58  x =  7.4  f(x) = -2.7875000058490094\n",
      "7.4 7.4\n",
      " it = 59  x =  7.4  f(x) = -2.7875000058490094\n",
      "7.4 7.4\n",
      " it = 60  x =  7.4  f(x) = -2.7875000058490094\n",
      "7.4 7.4\n",
      " it = 61  x =  7.4  f(x) = -2.7875000058490094\n",
      "7.4 7.4\n",
      " it = 62  x =  7.4  f(x) = -2.7875000058490094\n",
      "7.4 7.4\n",
      " it = 63  x =  7.4  f(x) = -2.7875000058490094\n",
      "7.4 7.4\n",
      " it = 64  x =  7.4  f(x) = -2.7875000058490094\n",
      "7.4 7.4\n",
      " it = 65  x =  7.4  f(x) = -2.7875000058490094\n",
      "7.4 7.4\n",
      " it = 66  x =  7.4  f(x) = -2.7875000058490094\n",
      "7.4 7.4\n",
      " it = 67  x =  7.4  f(x) = -2.7875000058490094\n",
      "7.4 7.4\n",
      " it = 68  x =  7.4  f(x) = -2.7875000058490094\n",
      "7.4 7.4\n",
      " it = 69  x =  7.4  f(x) = -2.7875000058490094\n",
      "7.4 7.4\n",
      " it = 70  x =  7.4  f(x) = -2.7875000058490094\n",
      "7.4 7.4\n",
      " it = 71  x =  7.4  f(x) = -2.7875000058490094\n",
      "7.4 7.4\n",
      " it = 72  x =  7.4  f(x) = -2.7875000058490094\n",
      "7.4 7.4\n",
      " it = 73  x =  7.4  f(x) = -2.7875000058490094\n",
      "7.4 7.4\n",
      " it = 74  x =  7.4  f(x) = -2.7875000058490094\n",
      "7.4 7.4\n",
      " it = 75  x =  7.4  f(x) = -2.7875000058490094\n",
      "7.4 7.4\n",
      " it = 76  x =  7.4  f(x) = -2.7875000058490094\n",
      "7.4 7.4\n",
      " it = 77  x =  7.4  f(x) = -2.7875000058490094\n",
      "7.4 7.4\n",
      " it = 78  x =  7.4  f(x) = -2.7875000058490094\n",
      "7.4 7.4\n",
      " it = 79  x =  7.4  f(x) = -2.7875000058490094\n",
      "7.4 7.4\n",
      " it = 80  x =  7.4  f(x) = -2.7875000058490094\n",
      "7.4 7.4\n",
      " it = 81  x =  7.4  f(x) = -2.7875000058490094\n",
      "7.4 7.4\n",
      " it = 82  x =  7.4  f(x) = -2.7875000058490094\n",
      "7.4 7.4\n",
      " it = 83  x =  7.4  f(x) = -2.7875000058490094\n",
      "7.4 7.4\n",
      " it = 84  x =  7.4  f(x) = -2.7875000058490094\n",
      "7.4 7.4\n",
      " it = 85  x =  7.4  f(x) = -2.7875000058490094\n",
      "7.4 7.4\n",
      " it = 86  x =  7.4  f(x) = -2.7875000058490094\n",
      "7.4 7.4\n",
      " it = 87  x =  7.4  f(x) = -2.7875000058490094\n",
      "7.4 7.4\n",
      " it = 88  x =  7.4  f(x) = -2.7875000058490094\n",
      "7.4 7.4\n",
      " it = 89  x =  7.4  f(x) = -2.7875000058490094\n",
      "7.4 7.4\n",
      " it = 90  x =  7.4  f(x) = -2.7875000058490094\n",
      "7.4 7.4\n",
      " it = 91  x =  7.4  f(x) = -2.7875000058490094\n",
      "7.4 7.4\n",
      " it = 92  x =  7.4  f(x) = -2.7875000058490094\n",
      "7.4 7.4\n",
      " it = 93  x =  7.4  f(x) = -2.7875000058490094\n",
      "7.4 7.4\n",
      " it = 94  x =  7.4  f(x) = -2.7875000058490094\n",
      "7.4 7.4\n",
      " it = 95  x =  7.4  f(x) = -2.7875000058490094\n",
      "7.4 7.4\n",
      " it = 96  x =  7.4  f(x) = -2.7875000058490094\n",
      "7.4 7.4\n",
      " it = 97  x =  7.4  f(x) = -2.7875000058490094\n",
      "7.4 7.4\n",
      " it = 98  x =  7.4  f(x) = -2.7875000058490094\n",
      "7.4 7.4\n",
      " it = 99  x =  7.4  f(x) = -2.7875000058490094\n",
      "\n",
      " No root after N iterations\n",
      "\n"
     ]
    },
    {
     "name": "stderr",
     "output_type": "stream",
     "text": [
      "<ipython-input-45-348a953e8935>:4: RuntimeWarning: invalid value encountered in double_scalars\n",
      "  slope = (f(Xplus)-f(Xminus))/(Xplus-Xminus)\n"
     ]
    }
   ],
   "source": [
    "a=7.4 ; b =7.7 ; eps = 1e-3; Nmax =100\n",
    "root = Bisection(a, b, Nmax, eps) \n",
    "#print(\" Root =\", root) "
   ]
  },
  {
   "cell_type": "code",
   "execution_count": null,
   "metadata": {},
   "outputs": [],
   "source": []
  },
  {
   "cell_type": "code",
   "execution_count": null,
   "metadata": {},
   "outputs": [],
   "source": []
  }
 ],
 "metadata": {
  "kernelspec": {
   "display_name": "Python 3",
   "language": "python",
   "name": "python3"
  },
  "language_info": {
   "codemirror_mode": {
    "name": "ipython",
    "version": 3
   },
   "file_extension": ".py",
   "mimetype": "text/x-python",
   "name": "python",
   "nbconvert_exporter": "python",
   "pygments_lexer": "ipython3",
   "version": "3.8.1"
  },
  "latex_envs": {
   "LaTeX_envs_menu_present": true,
   "autoclose": false,
   "autocomplete": true,
   "bibliofile": "biblio.bib",
   "cite_by": "apalike",
   "current_citInitial": 1,
   "eqLabelWithNumbers": true,
   "eqNumInitial": 1,
   "hotkeys": {
    "equation": "Ctrl-E",
    "itemize": "Ctrl-I"
   },
   "labels_anchors": false,
   "latex_user_defs": false,
   "report_style_numbering": false,
   "user_envs_cfg": false
  },
  "toc": {
   "base_numbering": 1,
   "nav_menu": {},
   "number_sections": true,
   "sideBar": true,
   "skip_h1_title": false,
   "title_cell": "Table of Contents",
   "title_sidebar": "Contents",
   "toc_cell": false,
   "toc_position": {},
   "toc_section_display": true,
   "toc_window_display": false
  }
 },
 "nbformat": 4,
 "nbformat_minor": 4
}
