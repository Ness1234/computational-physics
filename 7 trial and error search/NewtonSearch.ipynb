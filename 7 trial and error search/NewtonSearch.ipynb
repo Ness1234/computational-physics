{
 "cells": [
  {
   "cell_type": "code",
   "execution_count": null,
   "metadata": {},
   "outputs": [],
   "source": []
  },
  {
   "cell_type": "code",
   "execution_count": 1,
   "metadata": {},
   "outputs": [
    {
     "name": "stdout",
     "output_type": "stream",
     "text": [
      "Iteration # =  0  x =  1111.0  f(x) =  -1110.1354810108055\n",
      "Iteration # =  1  x =  2492.62729671107  f(x) =  -2493.076382471917\n",
      "Iteration # =  2  x =  1.872667161213485  f(x) =  -2.467281090894623\n",
      "Iteration # =  3  x =  -0.5909674326563334  f(x) =  2.251771529681146\n",
      "Iteration # =  4  x =  14.742265017100749  f(x) =  -15.879950499491173\n",
      "Iteration # =  5  x =  1.6269843126713521  f(x) =  -1.7393011635859683\n",
      "Iteration # =  6  x =  0.02028125572739592  f(x) =  1.9793074290378492\n",
      "Iteration # =  7  x =  1.93019084366388  f(x) =  -2.633605841657901\n",
      "Iteration # =  8  x =  0.9174051337046287  f(x) =  0.29836005542003274\n",
      "Iteration # =  9  x =  1.0357528096069157  f(x) =  -0.015995858771748583\n",
      "\n",
      " Root found, f(root) = -1.1793849766350561e-05 , eps =  0.002\n"
     ]
    }
   ],
   "source": [
    "# NewtonCD.py Newton Search with central difference \n",
    "from math import cos \n",
    "x = 1111.; dx = 3.e-4; eps = 0.002; Nmax = 100; # Parameters \n",
    "def f(x): \n",
    "    return 2*cos(x) - x # Function \n",
    "for it in range(0, Nmax + 1): \n",
    "    F = f(x) \n",
    "    if (abs(F) <= eps): # Converged? \n",
    "        print(\"\\n Root found, f(root) =\", F, \", eps = \" , eps) \n",
    "        break \n",
    "    print(\"Iteration # = \", it, \" x = \", x, \" f(x) = \", F) \n",
    "    df = (f(x+dx/2) - f(x-dx/2))/dx # Central diff \n",
    "    dx = - F/df \n",
    "    x += dx # New guess "
   ]
  },
  {
   "cell_type": "code",
   "execution_count": null,
   "metadata": {},
   "outputs": [],
   "source": []
  }
 ],
 "metadata": {
  "kernelspec": {
   "display_name": "Python 3",
   "language": "python",
   "name": "python3"
  },
  "language_info": {
   "codemirror_mode": {
    "name": "ipython",
    "version": 3
   },
   "file_extension": ".py",
   "mimetype": "text/x-python",
   "name": "python",
   "nbconvert_exporter": "python",
   "pygments_lexer": "ipython3",
   "version": "3.8.1"
  },
  "latex_envs": {
   "LaTeX_envs_menu_present": true,
   "autoclose": false,
   "autocomplete": true,
   "bibliofile": "biblio.bib",
   "cite_by": "apalike",
   "current_citInitial": 1,
   "eqLabelWithNumbers": true,
   "eqNumInitial": 1,
   "hotkeys": {
    "equation": "Ctrl-E",
    "itemize": "Ctrl-I"
   },
   "labels_anchors": false,
   "latex_user_defs": false,
   "report_style_numbering": false,
   "user_envs_cfg": false
  },
  "toc": {
   "base_numbering": 1,
   "nav_menu": {},
   "number_sections": true,
   "sideBar": true,
   "skip_h1_title": false,
   "title_cell": "Table of Contents",
   "title_sidebar": "Contents",
   "toc_cell": false,
   "toc_position": {},
   "toc_section_display": true,
   "toc_window_display": false
  }
 },
 "nbformat": 4,
 "nbformat_minor": 4
}
