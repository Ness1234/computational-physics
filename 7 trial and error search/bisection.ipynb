{
 "cells": [
  {
   "cell_type": "code",
   "execution_count": 76,
   "metadata": {},
   "outputs": [],
   "source": [
    "import vpython as vp"
   ]
  },
  {
   "cell_type": "code",
   "execution_count": 81,
   "metadata": {},
   "outputs": [
    {
     "data": {
      "text/html": [
       "<div id=\"glowscript\" class=\"glowscript\"></div>"
      ],
      "text/plain": [
       "<IPython.core.display.HTML object>"
      ]
     },
     "metadata": {},
     "output_type": "display_data"
    },
    {
     "data": {
      "application/javascript": [
       "if (typeof Jupyter !== \"undefined\") { window.__context = { glowscript_container: $(\"#glowscript\").removeAttr(\"id\")};}else{ element.textContent = ' ';}"
      ],
      "text/plain": [
       "<IPython.core.display.Javascript object>"
      ]
     },
     "metadata": {},
     "output_type": "display_data"
    }
   ],
   "source": [
    "scene = vp.canvas()"
   ]
  },
  {
   "cell_type": "code",
   "execution_count": 82,
   "metadata": {},
   "outputs": [],
   "source": [
    "graph1 = vp.graph(title = 'visualization of Bisection algorithm', xtitle ='x', ytitle='y')"
   ]
  },
  {
   "cell_type": "code",
   "execution_count": 83,
   "metadata": {},
   "outputs": [
    {
     "name": "stdout",
     "output_type": "stream",
     "text": [
      "0.0 7.0\n",
      " it = 0  x =  3.5  f(x) = -5.372913374581593\n",
      "0.0 3.5\n",
      " it = 1  x =  1.75  f(x) = -2.106492111298984\n",
      "0.0 1.75\n",
      " it = 2  x =  0.875  f(x) = 0.4069937163266504\n",
      "0.875 1.75\n",
      " it = 3  x =  1.3125  f(x) = -0.8016324662223766\n",
      "0.875 1.3125\n",
      " it = 4  x =  1.09375  f(x) = -0.1754354562153918\n",
      "0.875 1.09375\n",
      " it = 5  x =  0.984375  f(x) = 0.12239260297994425\n",
      "0.984375 1.09375\n",
      " it = 6  x =  1.0390625  f(x) = -0.025005422765343788\n",
      "0.984375 1.0390625\n",
      " it = 7  x =  1.01171875  f(x) = 0.049090138545859086\n",
      "1.01171875 1.0390625\n",
      " it = 8  x =  1.025390625  f(x) = 0.012139324014991182\n",
      "1.025390625 1.0390625\n",
      " it = 9  x =  1.0322265625  f(x) = -0.006409081221774748\n",
      "1.025390625 1.0322265625\n",
      " it = 10  x =  1.02880859375  f(x) = 0.002871147695383325\n",
      "1.02880859375 1.0322265625\n",
      " it = 11  x =  1.030517578125  f(x) = -0.0017674644655767402\n",
      "1.02880859375 1.030517578125\n",
      " it = 12  x =  1.0296630859375  f(x) = 0.0005522177242860415\n",
      "\n",
      " Root found with precision eps =  0.001\n",
      " Root = 1.0296630859375\n"
     ]
    }
   ],
   "source": [
    "# Bisection.py: zero of f(x) via Bisection algorithm within [a,b] \n",
    "import numpy as np\n",
    "eps = 1e-3; Nmax = 100; a = 0.0; b = 7.0 # Precision, [a,b] \n",
    "def f(x): \n",
    "    return 2*np.cos(x) - x # Your function here \n",
    "\n",
    "def Bisection(Xminus, Xplus, Nmax, eps): # Do not change \n",
    "    for it in range(0, Nmax): \n",
    "        print(Xminus, Xplus)\n",
    "        slope = (f(Xplus)-f(Xminus))/(Xplus-Xminus)\n",
    "        for j in arange(Xminus,Xplus,0.01):\n",
    "            bisection_line.plot(pos = (j,f(Xminus)+slope*(j-Xminus)))\n",
    "        x = (Xplus + Xminus)/2.\n",
    "        print(\" it =\", it, \" x = \", x, \" f(x) =\", f(x)) \n",
    "        if (f(Xplus)*f(x) > 0.): #root in other half\n",
    "            Xplus = x # Change x+ to x \n",
    "        else: \n",
    "            Xminus = x # Change x- to x \n",
    "        if (abs(f(x) ) < eps): # Converged? \n",
    "            print(\"\\n Root found with precision eps = \", eps) \n",
    "            break \n",
    "        if it == Nmax-1: \n",
    "            print (\"\\n No root after N iterations\\n\") \n",
    "    return x \n",
    "functionplot = vp.gcurve(color=vp.color.magenta, width =3)\n",
    "zeroline = vp.gcurve(color=vp.color.blue)\n",
    "bisection_line = vp.gcurve(color=vp.color.red)\n",
    "for x in arange(a,b,0.1):\n",
    "    functionplot.plot(pos =(x,f(x)))\n",
    "    zeroline.plot(pos=(x,0))\n",
    "root = Bisection(a, b, Nmax, eps) \n",
    "print(\" Root =\", root) "
   ]
  },
  {
   "cell_type": "code",
   "execution_count": null,
   "metadata": {},
   "outputs": [],
   "source": []
  },
  {
   "cell_type": "code",
   "execution_count": null,
   "metadata": {},
   "outputs": [],
   "source": []
  }
 ],
 "metadata": {
  "kernelspec": {
   "display_name": "Python 3",
   "language": "python",
   "name": "python3"
  },
  "language_info": {
   "codemirror_mode": {
    "name": "ipython",
    "version": 3
   },
   "file_extension": ".py",
   "mimetype": "text/x-python",
   "name": "python",
   "nbconvert_exporter": "python",
   "pygments_lexer": "ipython3",
   "version": "3.8.1"
  },
  "latex_envs": {
   "LaTeX_envs_menu_present": true,
   "autoclose": false,
   "autocomplete": true,
   "bibliofile": "biblio.bib",
   "cite_by": "apalike",
   "current_citInitial": 1,
   "eqLabelWithNumbers": true,
   "eqNumInitial": 1,
   "hotkeys": {
    "equation": "Ctrl-E",
    "itemize": "Ctrl-I"
   },
   "labels_anchors": false,
   "latex_user_defs": false,
   "report_style_numbering": false,
   "user_envs_cfg": false
  },
  "toc": {
   "base_numbering": 1,
   "nav_menu": {},
   "number_sections": true,
   "sideBar": true,
   "skip_h1_title": false,
   "title_cell": "Table of Contents",
   "title_sidebar": "Contents",
   "toc_cell": false,
   "toc_position": {},
   "toc_section_display": true,
   "toc_window_display": false
  }
 },
 "nbformat": 4,
 "nbformat_minor": 4
}
