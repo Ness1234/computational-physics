{
 "cells": [
  {
   "cell_type": "code",
   "execution_count": 1,
   "metadata": {},
   "outputs": [],
   "source": [
    "from numpy import *\n",
    "import numpy as np\n",
    "import matplotlib.pyplot as plt\n",
    "import matplotlib.animation as animation"
   ]
  },
  {
   "cell_type": "code",
   "execution_count": 3,
   "metadata": {},
   "outputs": [
    {
     "data": {
      "image/png": "[encoded data removed]",
      "text/plain": [
       "<Figure size 432x288 with 1 Axes>"
      ]
     },
     "metadata": {
      "needs_background": "light"
     },
     "output_type": "display_data"
    }
   ],
   "source": [
    "Nx = 101\n",
    "Dx = 0.01414\n",
    "Dt = 0.6\n",
    "KAPPA = 210. #thermal conductivity\n",
    "SPH = 900. #specific heat\n",
    "RHO = 2700. #density\n",
    "cons = KAPPA/(SPH*RHO)*Dt/(Dx*Dx) \n",
    "T = np.zeros((Nx,2), float)\n",
    "def init():\n",
    "    for ix in range(1, Nx-1): #initial temperature\n",
    "        T[ix, 0] = 100.0\n",
    "    T[0,0] = 0.0\n",
    "    T[0,1] = 0.\n",
    "    T[Nx - 1, 0] = 0.\n",
    "    T[Nx - 1, 1] = 0.0\n",
    "init()\n",
    "k = range(0,Nx)\n",
    "fig = plt.figure()\n",
    "ax = fig.add_subplot(111, autoscale_on = False, xlim=(-5, 105), ylim=(-5,110.0))\n",
    "ax.grid() #plot grid\n",
    "plt.ylabel(\"Temperature\")\n",
    "plt.title(\"Cooling of a bar\")\n",
    "line, = ax.plot(k, T[k,0], \"r\", lw =2)\n",
    "plt.plot([1,99], [0,0], \"r\", lw=10)\n",
    "plt.text(45, 5,'bar', fontsize = 20)\n",
    "\n",
    "def animate(dum):\n",
    "    for ix in range(1, Nx - 1):\n",
    "        T[ix, 1] = T[ix, 0]+ cons*(T[ix + 1, 0]+ T[ix -1, 0]-2.0*T[ix,0])\n",
    "        line.set_data(k,T[k,1])\n",
    "        for ix in range(1, Nx - 1):\n",
    "            T[ix, 0] = T[ix, 1]\n",
    "        return line\n",
    "ani = animation.FuncAnimation(fig, animate, 1)\n",
    "plt.show()"
   ]
  },
  {
   "cell_type": "code",
   "execution_count": null,
   "metadata": {},
   "outputs": [],
   "source": []
  }
 ],
 "metadata": {
  "kernelspec": {
   "display_name": "Python 3",
   "language": "python",
   "name": "python3"
  },
  "language_info": {
   "codemirror_mode": {
    "name": "ipython",
    "version": 3
   },
   "file_extension": ".py",
   "mimetype": "text/x-python",
   "name": "python",
   "nbconvert_exporter": "python",
   "pygments_lexer": "ipython3",
   "version": "3.8.1"
  },
  "latex_envs": {
   "LaTeX_envs_menu_present": true,
   "autoclose": false,
   "autocomplete": true,
   "bibliofile": "biblio.bib",
   "cite_by": "apalike",
   "current_citInitial": 1,
   "eqLabelWithNumbers": true,
   "eqNumInitial": 1,
   "hotkeys": {
    "equation": "Ctrl-E",
    "itemize": "Ctrl-I"
   },
   "labels_anchors": false,
   "latex_user_defs": false,
   "report_style_numbering": false,
   "user_envs_cfg": false
  },
  "toc": {
   "base_numbering": 1,
   "nav_menu": {},
   "number_sections": true,
   "sideBar": true,
   "skip_h1_title": false,
   "title_cell": "Table of Contents",
   "title_sidebar": "Contents",
   "toc_cell": false,
   "toc_position": {},
   "toc_section_display": true,
   "toc_window_display": false
  }
 },
 "nbformat": 4,
 "nbformat_minor": 4
}
