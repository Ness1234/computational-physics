{
 "cells": [
  {
   "cell_type": "code",
   "execution_count": 23,
   "metadata": {
    "scrolled": true
   },
   "outputs": [
    {
     "data": {
      "text/html": [
       "<div id=\"glowscript\" class=\"glowscript\"></div>"
      ],
      "text/plain": [
       "<IPython.core.display.HTML object>"
      ]
     },
     "metadata": {},
     "output_type": "display_data"
    },
    {
     "data": {
      "application/javascript": [
       "if (typeof Jupyter !== \"undefined\") { window.__context = { glowscript_container: $(\"#glowscript\").removeAttr(\"id\")};}else{ element.textContent = ' ';}"
      ],
      "text/plain": [
       "<IPython.core.display.Javascript object>"
      ]
     },
     "metadata": {},
     "output_type": "display_data"
    }
   ],
   "source": [
    "from vpython import *\n",
    "scene = canvas()"
   ]
  },
  {
   "cell_type": "code",
   "execution_count": 24,
   "metadata": {},
   "outputs": [],
   "source": [
    "graph1 = graph(width = 500, height = 500, background = color.white,\n",
    "              title = 'VPython 3D Shapes',\n",
    "              range = 10)"
   ]
  },
  {
   "cell_type": "code",
   "execution_count": 25,
   "metadata": {},
   "outputs": [],
   "source": [
    "sphere(pos =vector(0,0,0), radius = 1, color = color.green)\n",
    "sphere(pos =vector(0,1,-3), radius = 1.5, color = color.red)\n",
    "arrow(pos = vector(3,2,2), axis = vector(6,-1,5), color = color.cyan)\n",
    "cylinder(pos = vector(-3,-2,3), axis =vector(6,-1,5), radius =2, color = color.yellow )\n",
    "cone(pos = vector(-6,-6,0), axis = vector(5,0,0), radius = 2, color = color.magenta)\n",
    "helix(pos = vector(-5,5,2), axis = vector(5,0,0), radius = 2, thickness = 0.4, color = color.orange)\n",
    "ring(pos = vector(-6,1,0), axis = vector(1,1,1), radius = 2, thickness = 0.3, color = vector(0.3,0.4,0.6))\n",
    "box(pos = vector(5,-2,2), length = 5, width = 5, height = 0.4, color = vector(0.4, 0.8, 0.2))\n",
    "pyramid(pos = vector(2,5,2), size = vector(4,3,2), color=vector(0.7,0.7,0.2))\n",
    "ellipsoid(pos = vector(-1,-7,1), axis = vector(2,1,3), length = 4, height =2, width = 5, color = vector(0.1,0.9,0.8))"
   ]
  },
  {
   "cell_type": "code",
   "execution_count": null,
   "metadata": {},
   "outputs": [],
   "source": []
  }
 ],
 "metadata": {
  "kernelspec": {
   "display_name": "Python 3",
   "language": "python",
   "name": "python3"
  },
  "language_info": {
   "codemirror_mode": {
    "name": "ipython",
    "version": 3
   },
   "file_extension": ".py",
   "mimetype": "text/x-python",
   "name": "python",
   "nbconvert_exporter": "python",
   "pygments_lexer": "ipython3",
   "version": "3.8.1"
  },
  "latex_envs": {
   "LaTeX_envs_menu_present": true,
   "autoclose": false,
   "autocomplete": true,
   "bibliofile": "biblio.bib",
   "cite_by": "apalike",
   "current_citInitial": 1,
   "eqLabelWithNumbers": true,
   "eqNumInitial": 1,
   "hotkeys": {
    "equation": "Ctrl-E",
    "itemize": "Ctrl-I"
   },
   "labels_anchors": false,
   "latex_user_defs": false,
   "report_style_numbering": false,
   "user_envs_cfg": false
  },
  "toc": {
   "base_numbering": 1,
   "nav_menu": {},
   "number_sections": true,
   "sideBar": true,
   "skip_h1_title": false,
   "title_cell": "Table of Contents",
   "title_sidebar": "Contents",
   "toc_cell": false,
   "toc_position": {},
   "toc_section_display": true,
   "toc_window_display": false
  }
 },
 "nbformat": 4,
 "nbformat_minor": 4
}
